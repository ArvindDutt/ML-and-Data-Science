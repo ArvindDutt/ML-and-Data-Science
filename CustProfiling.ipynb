{
 "cells": [
  {
   "cell_type": "markdown",
   "metadata": {
    "application/vnd.databricks.v1+cell": {
     "cellMetadata": {},
     "inputWidgets": {},
     "nuid": "d08eb05a-467d-4ea3-a56d-edadae49d5db",
     "showTitle": false,
     "title": ""
    }
   },
   "source": [
    "Downloading and Installing All the Dependencies"
   ]
  },
  {
   "cell_type": "code",
   "execution_count": 0,
   "metadata": {
    "application/vnd.databricks.v1+cell": {
     "cellMetadata": {
      "byteLimit": 2048000,
      "rowLimit": 10000
     },
     "inputWidgets": {},
     "nuid": "e905469e-98a5-49c4-b9cb-3bb138822ab1",
     "showTitle": false,
     "title": ""
    }
   },
   "outputs": [
    {
     "output_type": "stream",
     "name": "stdout",
     "output_type": "stream",
     "text": [
      "\u001B[43mNote: you may need to restart the kernel using dbutils.library.restartPython() to use updated packages.\u001B[0m\nCollecting pyDocumentDB\n  Downloading pydocumentdb-2.3.5-py3-none-any.whl (93 kB)\n     ━━━━━━━━━━━━━━━━━━━━━━━━━━━━━━━━━━━━━━━━ 93.8/93.8 kB 1.2 MB/s eta 0:00:00\nRequirement already satisfied: requests>=2.10.0 in /databricks/python3/lib/python3.10/site-packages (from pyDocumentDB) (2.28.1)\nRequirement already satisfied: six>=1.6 in /usr/lib/python3/dist-packages (from pyDocumentDB) (1.16.0)\nRequirement already satisfied: urllib3<1.27,>=1.21.1 in /databricks/python3/lib/python3.10/site-packages (from requests>=2.10.0->pyDocumentDB) (1.26.11)\nRequirement already satisfied: idna<4,>=2.5 in /databricks/python3/lib/python3.10/site-packages (from requests>=2.10.0->pyDocumentDB) (3.3)\nRequirement already satisfied: certifi>=2017.4.17 in /databricks/python3/lib/python3.10/site-packages (from requests>=2.10.0->pyDocumentDB) (2022.9.14)\nRequirement already satisfied: charset-normalizer<3,>=2 in /databricks/python3/lib/python3.10/site-packages (from requests>=2.10.0->pyDocumentDB) (2.0.4)\nInstalling collected packages: pyDocumentDB\nSuccessfully installed pyDocumentDB-2.3.5\n\u001B[43mNote: you may need to restart the kernel using dbutils.library.restartPython() to use updated packages.\u001B[0m\n"
     ]
    }
   ],
   "source": [
    "pip install pyDocumentDB"
   ]
  },
  {
   "cell_type": "code",
   "execution_count": 0,
   "metadata": {
    "application/vnd.databricks.v1+cell": {
     "cellMetadata": {
      "byteLimit": 2048000,
      "rowLimit": 10000
     },
     "inputWidgets": {},
     "nuid": "498cc1c4-392e-4853-865d-4d8973fac708",
     "showTitle": false,
     "title": ""
    }
   },
   "outputs": [],
   "source": [
    "dbutils.library.restartPython()"
   ]
  },
  {
   "cell_type": "code",
   "execution_count": 0,
   "metadata": {
    "application/vnd.databricks.v1+cell": {
     "cellMetadata": {
      "byteLimit": 2048000,
      "rowLimit": 10000
     },
     "inputWidgets": {},
     "nuid": "1a9abf71-af01-45b8-9a62-a6c40037db4e",
     "showTitle": false,
     "title": ""
    }
   },
   "outputs": [],
   "source": [
    "import pandas as pd\n",
    "import time\n",
    "from datetime import datetime\n",
    "from datetime import timezone\n",
    "import matplotlib\n",
    "import matplotlib.pyplot as plt\n",
    "from matplotlib import colors\n",
    "import seaborn as sns\n",
    "from sklearn.preprocessing import LabelEncoder\n",
    "from sklearn.preprocessing import StandardScaler\n",
    "from sklearn.decomposition import PCA\n",
    "#from yellowbrick.cluster import KElbowVisualizer\n",
    "from sklearn.cluster import KMeans\n",
    "import matplotlib.pyplot as plt, numpy as np\n",
    "from mpl_toolkits.mplot3d import Axes3D\n",
    "from sklearn.cluster import AgglomerativeClustering\n",
    "from matplotlib.colors import ListedColormap\n",
    "from sklearn import metrics\n",
    "import warnings\n",
    "import pydocumentdb\n",
    "from pydocumentdb import document_client\n",
    "from pydocumentdb import documents\n",
    "import datetime"
   ]
  },
  {
   "cell_type": "markdown",
   "metadata": {
    "application/vnd.databricks.v1+cell": {
     "cellMetadata": {},
     "inputWidgets": {},
     "nuid": "412de418-2731-4b83-b7df-170209501d07",
     "showTitle": false,
     "title": ""
    }
   },
   "source": [
    "Connect to Secret Scope of Databricks for secured access of storage keys"
   ]
  },
  {
   "cell_type": "code",
   "execution_count": 0,
   "metadata": {
    "application/vnd.databricks.v1+cell": {
     "cellMetadata": {
      "byteLimit": 2048000,
      "rowLimit": 10000
     },
     "inputWidgets": {},
     "nuid": "d6048040-ae57-48db-a4c6-cc825d48d910",
     "showTitle": false,
     "title": ""
    }
   },
   "outputs": [],
   "source": [
    "stgkeys = dbutils.secrets.get(\"storageaccountscope\",\"devsaus-storagekeys\")\n",
    "storage_account_name = \"youraccount\"\n",
    "\n",
    "spark.conf.set(\n",
    "  \"fs.azure.account.key.\"+storage_account_name+\".dfs.core.windows.net\",\n",
    "  stgkeys)"
   ]
  },
  {
   "cell_type": "markdown",
   "metadata": {
    "application/vnd.databricks.v1+cell": {
     "cellMetadata": {},
     "inputWidgets": {},
     "nuid": "029eeb5f-3527-4e02-b57f-0385f1cd400e",
     "showTitle": false,
     "title": ""
    }
   },
   "source": [
    "Connect to file location to access file"
   ]
  },
  {
   "cell_type": "code",
   "execution_count": 0,
   "metadata": {
    "application/vnd.databricks.v1+cell": {
     "cellMetadata": {
      "byteLimit": 2048000,
      "rowLimit": 10000
     },
     "inputWidgets": {},
     "nuid": "dfaf536e-127c-40ff-838d-9080f64b40c6",
     "showTitle": false,
     "title": ""
    }
   },
   "outputs": [],
   "source": [
    "file_location1 = \"abfss://loc\"\n",
    "file_type = \"csv\"\n"
   ]
  },
  {
   "cell_type": "markdown",
   "metadata": {
    "application/vnd.databricks.v1+cell": {
     "cellMetadata": {},
     "inputWidgets": {},
     "nuid": "3bb39458-12d0-4dc5-9df8-f24166bdb889",
     "showTitle": false,
     "title": ""
    }
   },
   "source": [
    "Parameters for Databricks and SQL DB connection"
   ]
  },
  {
   "cell_type": "code",
   "execution_count": 0,
   "metadata": {
    "application/vnd.databricks.v1+cell": {
     "cellMetadata": {
      "byteLimit": 2048000,
      "rowLimit": 10000
     },
     "inputWidgets": {},
     "nuid": "57ef3295-236a-448c-a6d4-7da4daf92ff1",
     "showTitle": false,
     "title": ""
    },
    "jupyter": {
     "source_hidden": true
    }
   },
   "outputs": [],
   "source": [
    "#driver = \"com.microsoft.sqlserver.jdbc.SQLServerDriver\"\n",
    "\n",
    "database_host = \"yourserver.database.windows.net\"\n",
    "database_port = \"1433\" # update if you use a non-default port\n",
    "database_name = \"yourdB\"\n",
    "user = \"youruser\"\n",
    "password = \"yourpass\"\n"
   ]
  },
  {
   "cell_type": "markdown",
   "metadata": {
    "application/vnd.databricks.v1+cell": {
     "cellMetadata": {},
     "inputWidgets": {},
     "nuid": "33e28071-3995-4d2c-9680-0b07287a5629",
     "showTitle": false,
     "title": ""
    }
   },
   "source": [
    "Pull the data and create a pyspark dataframe from multiple tables from 'DB_Name'"
   ]
  },
  {
   "cell_type": "code",
   "execution_count": 0,
   "metadata": {
    "application/vnd.databricks.v1+cell": {
     "cellMetadata": {
      "byteLimit": 2048000,
      "rowLimit": 10000
     },
     "inputWidgets": {},
     "nuid": "9ebb0a9f-859c-4af9-a3e1-b8462e00e6a0",
     "showTitle": false,
     "title": ""
    }
   },
   "outputs": [],
   "source": [
    "cc_data1 = (spark.read\n",
    "  .format(\"sqlserver\")\n",
    "  .option(\"host\", database_host)\n",
    "  .option(\"port\", database_port) # optional, can use default port 1433 if omitted\n",
    "  .option(\"user\", user)\n",
    "  .option(\"password\", password)\n",
    "  .option(\"database\", database_name)\n",
    "  .option(\"dbtable\", \"azuredemo.credit_card_data1\") # (if schemaName not provided, default to \"dbo\")\n",
    "  .load()\n",
    ")"
   ]
  },
  {
   "cell_type": "code",
   "execution_count": 0,
   "metadata": {
    "application/vnd.databricks.v1+cell": {
     "cellMetadata": {
      "byteLimit": 2048000,
      "rowLimit": 10000
     },
     "inputWidgets": {},
     "nuid": "3c29f154-dd68-4cd8-8302-093fa1aa8667",
     "showTitle": false,
     "title": ""
    }
   },
   "outputs": [],
   "source": [
    "cc_trans_data1 = (spark.read\n",
    "  .format(\"sqlserver\")\n",
    "  .option(\"host\", database_host)\n",
    "  .option(\"port\", database_port) # optional, can use default port 1433 if omitted\n",
    "  .option(\"user\", user)\n",
    "  .option(\"password\", password)\n",
    "  .option(\"database\", database_name)\n",
    "  .option(\"dbtable\", \"azuredemo.credit_card_data_transactions1\") # (if schemaName not provided, default to \"dbo\")\n",
    "  .load()\n",
    ")"
   ]
  },
  {
   "cell_type": "code",
   "execution_count": 0,
   "metadata": {
    "application/vnd.databricks.v1+cell": {
     "cellMetadata": {
      "byteLimit": 2048000,
      "rowLimit": 10000
     },
     "inputWidgets": {},
     "nuid": "f18e4a6b-0954-4ec1-aee6-ddcd9223de0c",
     "showTitle": false,
     "title": ""
    }
   },
   "outputs": [],
   "source": [
    "dim_cust_data1 = (spark.read\n",
    "  .format(\"sqlserver\")\n",
    "  .option(\"host\", database_host)\n",
    "  .option(\"port\", database_port) # optional, can use default port 1433 if omitted\n",
    "  .option(\"user\", user)\n",
    "  .option(\"password\", password)\n",
    "  .option(\"database\", database_name)\n",
    "  .option(\"dbtable\", \"azuredemo.dim_customer1\") # (if schemaName not provided, default to \"dbo\")\n",
    "  .load()\n",
    ")"
   ]
  },
  {
   "cell_type": "code",
   "execution_count": 0,
   "metadata": {
    "application/vnd.databricks.v1+cell": {
     "cellMetadata": {
      "byteLimit": 2048000,
      "rowLimit": 10000
     },
     "inputWidgets": {},
     "nuid": "d29a6511-a035-4fb4-afbc-d4c47adbf6c7",
     "showTitle": false,
     "title": ""
    }
   },
   "outputs": [],
   "source": [
    "dim_loan_data1 = (spark.read\n",
    "  .format(\"sqlserver\")\n",
    "  .option(\"host\", database_host)\n",
    "  .option(\"port\", database_port) # optional, can use default port 1433 if omitted\n",
    "  .option(\"user\", user)\n",
    "  .option(\"password\", password)\n",
    "  .option(\"database\", database_name)\n",
    "  .option(\"dbtable\", \"azuredemo.dim_loan1\") # (if schemaName not provided, default to \"dbo\")\n",
    "  .load()\n",
    ")"
   ]
  },
  {
   "cell_type": "code",
   "execution_count": 0,
   "metadata": {
    "application/vnd.databricks.v1+cell": {
     "cellMetadata": {
      "byteLimit": 2048000,
      "rowLimit": 10000
     },
     "inputWidgets": {},
     "nuid": "1819853b-3a06-4fed-bab5-286f47a2eef3",
     "showTitle": false,
     "title": ""
    }
   },
   "outputs": [],
   "source": [
    "fact_loan_data1 = (spark.read\n",
    "  .format(\"sqlserver\")\n",
    "  .option(\"host\", database_host)\n",
    "  .option(\"port\", database_port) # optional, can use default port 1433 if omitted\n",
    "  .option(\"user\", user)\n",
    "  .option(\"password\", password)\n",
    "  .option(\"database\", database_name)\n",
    "  .option(\"dbtable\", \"azuredemo.fact_loan1\") # (if schemaName not provided, default to \"dbo\")\n",
    "  .load()\n",
    ")"
   ]
  },
  {
   "cell_type": "markdown",
   "metadata": {
    "application/vnd.databricks.v1+cell": {
     "cellMetadata": {},
     "inputWidgets": {},
     "nuid": "c427dd0b-7725-4d25-9abd-9d28ea6fdb05",
     "showTitle": false,
     "title": ""
    }
   },
   "source": [
    "Pull data from storage account and create a pyspark dataframe "
   ]
  },
  {
   "cell_type": "code",
   "execution_count": 0,
   "metadata": {
    "application/vnd.databricks.v1+cell": {
     "cellMetadata": {
      "byteLimit": 2048000,
      "rowLimit": 10000
     },
     "inputWidgets": {},
     "nuid": "8aad9665-dea8-43f9-98ef-cc46d84e3cee",
     "showTitle": false,
     "title": ""
    }
   },
   "outputs": [],
   "source": [
    "\n",
    "cust_scores1 = spark.read.format(file_type).option(\"header\", \"true\").load(file_location1)"
   ]
  },
  {
   "cell_type": "markdown",
   "metadata": {
    "application/vnd.databricks.v1+cell": {
     "cellMetadata": {},
     "inputWidgets": {},
     "nuid": "47a4d466-1dbd-4a11-b412-9078e7362b59",
     "showTitle": false,
     "title": ""
    }
   },
   "source": [
    "Configuring setting and connection with CosmosDB"
   ]
  },
  {
   "cell_type": "code",
   "execution_count": 0,
   "metadata": {
    "application/vnd.databricks.v1+cell": {
     "cellMetadata": {
      "byteLimit": 2048000,
      "rowLimit": 10000
     },
     "inputWidgets": {},
     "nuid": "44f754fa-cc8b-4663-bbe1-6ce359e97635",
     "showTitle": false,
     "title": ""
    }
   },
   "outputs": [],
   "source": [
    "config = {\n",
    "  \"spark.cosmos.accountEndpoint\": \"https://cosmosendpoint\",\n",
    "  \"spark.cosmos.accountKey\": \"key\",\n",
    "  \"spark.cosmos.database\": \"db001\",\n",
    "  \"spark.cosmos.container\": \"custprofile\"\n",
    "}"
   ]
  },
  {
   "cell_type": "code",
   "execution_count": 0,
   "metadata": {
    "application/vnd.databricks.v1+cell": {
     "cellMetadata": {
      "byteLimit": 2048000,
      "rowLimit": 10000
     },
     "inputWidgets": {},
     "nuid": "2dd96969-29b0-4baf-b0fb-492373a6fb55",
     "showTitle": false,
     "title": ""
    }
   },
   "outputs": [],
   "source": [
    "spark.conf.set(\"spark.sql.catalog.cosmosCatalog\", \"com.azure.cosmos.spark.CosmosCatalog\")\n",
    "spark.conf.set(\"spark.sql.catalog.cosmosCatalog.spark.cosmos.accountEndpoint\", config[\"spark.cosmos.accountEndpoint\"])\n",
    "spark.conf.set(\"spark.sql.catalog.cosmosCatalog.spark.cosmos.accountKey\", config[\"spark.cosmos.accountKey\"])"
   ]
  },
  {
   "cell_type": "markdown",
   "metadata": {
    "application/vnd.databricks.v1+cell": {
     "cellMetadata": {},
     "inputWidgets": {},
     "nuid": "f15a939c-247f-4877-9bcd-ec9130690fad",
     "showTitle": false,
     "title": ""
    }
   },
   "source": [
    "Converting pyspark dataframe to Pandas dataframe for executing ML code"
   ]
  },
  {
   "cell_type": "code",
   "execution_count": 0,
   "metadata": {
    "application/vnd.databricks.v1+cell": {
     "cellMetadata": {
      "byteLimit": 2048000,
      "rowLimit": 10000
     },
     "inputWidgets": {},
     "nuid": "0872b052-3ec3-47ee-9c98-4bbc7223a765",
     "showTitle": false,
     "title": ""
    }
   },
   "outputs": [],
   "source": [
    "dim_cust_data = dim_cust_data1.toPandas()\n",
    "dim_loan_data = dim_loan_data1.toPandas()\n",
    "cc_data = cc_data1.toPandas()\n",
    "fact_loan_data = fact_loan_data1.toPandas()\n",
    "cc_trans_data = cc_trans_data1.toPandas()\n",
    "cust_scores = cust_scores1.toPandas()"
   ]
  },
  {
   "cell_type": "markdown",
   "metadata": {
    "application/vnd.databricks.v1+cell": {
     "cellMetadata": {},
     "inputWidgets": {},
     "nuid": "17c4f240-3ab5-4cb3-bafe-f5633efd5a00",
     "showTitle": false,
     "title": ""
    }
   },
   "source": [
    "Checking the dataframe content"
   ]
  },
  {
   "cell_type": "code",
   "execution_count": 0,
   "metadata": {
    "application/vnd.databricks.v1+cell": {
     "cellMetadata": {
      "byteLimit": 2048000,
      "rowLimit": 10000
     },
     "inputWidgets": {},
     "nuid": "02a8fd45-4fc0-4fc8-a25b-f946dae99201",
     "showTitle": false,
     "title": ""
    }
   },
   "outputs": [
    {
     "output_type": "execute_result",
     "data": {
      "text/html": [
       "<div>\n",
       "<style scoped>\n",
       "    .dataframe tbody tr th:only-of-type {\n",
       "        vertical-align: middle;\n",
       "    }\n",
       "\n",
       "    .dataframe tbody tr th {\n",
       "        vertical-align: top;\n",
       "    }\n",
       "\n",
       "    .dataframe thead th {\n",
       "        text-align: right;\n",
       "    }\n",
       "</style>\n",
       "<table border=\"1\" class=\"dataframe\">\n",
       "  <thead>\n",
       "    <tr style=\"text-align: right;\">\n",
       "      <th></th>\n",
       "      <th>id</th>\n",
       "      <th>firstname</th>\n",
       "      <th>lastname</th>\n",
       "      <th>email</th>\n",
       "      <th>gender</th>\n",
       "      <th>city</th>\n",
       "      <th>state</th>\n",
       "      <th>phone</th>\n",
       "      <th>pin</th>\n",
       "    </tr>\n",
       "  </thead>\n",
       "  <tbody>\n",
       "    <tr>\n",
       "      <th>0</th>\n",
       "      <td>10001</td>\n",
       "      <td>Orlando</td>\n",
       "      <td>Flatley-Veum</td>\n",
       "      <td>Orlando_Flatley-Veum@gmail.com</td>\n",
       "      <td>male</td>\n",
       "      <td>Murphyboro</td>\n",
       "      <td>South Carolina</td>\n",
       "      <td>+1 (217) 198-0340</td>\n",
       "      <td>3439</td>\n",
       "    </tr>\n",
       "    <tr>\n",
       "      <th>1</th>\n",
       "      <td>10002</td>\n",
       "      <td>Verna</td>\n",
       "      <td>Paucek</td>\n",
       "      <td>Verna27@yahoo.com</td>\n",
       "      <td>female</td>\n",
       "      <td>Kayceechester</td>\n",
       "      <td>Delaware</td>\n",
       "      <td>+1 (712) 116-2207</td>\n",
       "      <td>984</td>\n",
       "    </tr>\n",
       "    <tr>\n",
       "      <th>2</th>\n",
       "      <td>10003</td>\n",
       "      <td>Cynthia</td>\n",
       "      <td>Nolan</td>\n",
       "      <td>Cynthia12@gmail.com</td>\n",
       "      <td>female</td>\n",
       "      <td>Moreno Valley</td>\n",
       "      <td>Texas</td>\n",
       "      <td>+1 (311) 961-7236</td>\n",
       "      <td>3924</td>\n",
       "    </tr>\n",
       "    <tr>\n",
       "      <th>3</th>\n",
       "      <td>10004</td>\n",
       "      <td>Morris</td>\n",
       "      <td>McGlynn</td>\n",
       "      <td>Morris_McGlynn89@gmail.com</td>\n",
       "      <td>male</td>\n",
       "      <td>Dibbertborough</td>\n",
       "      <td>Alaska</td>\n",
       "      <td>+1 (436) 438-1272</td>\n",
       "      <td>2384</td>\n",
       "    </tr>\n",
       "    <tr>\n",
       "      <th>4</th>\n",
       "      <td>10005</td>\n",
       "      <td>Wilma</td>\n",
       "      <td>Carter</td>\n",
       "      <td>Wilma50@hotmail.com</td>\n",
       "      <td>female</td>\n",
       "      <td>Joanyberg</td>\n",
       "      <td>Idaho</td>\n",
       "      <td>+1 (168) 271-7969</td>\n",
       "      <td>7541</td>\n",
       "    </tr>\n",
       "  </tbody>\n",
       "</table>\n",
       "</div>"
      ],
      "text/plain": [
       "      id firstname      lastname  ...           state              phone   pin\n",
       "0  10001   Orlando  Flatley-Veum  ...  South Carolina  +1 (217) 198-0340  3439\n",
       "1  10002     Verna        Paucek  ...        Delaware  +1 (712) 116-2207   984\n",
       "2  10003   Cynthia         Nolan  ...           Texas  +1 (311) 961-7236  3924\n",
       "3  10004    Morris       McGlynn  ...          Alaska  +1 (436) 438-1272  2384\n",
       "4  10005     Wilma        Carter  ...           Idaho  +1 (168) 271-7969  7541\n",
       "\n",
       "[5 rows x 9 columns]"
      ]
     },
     "execution_count": 16,
     "metadata": {},
     "output_type": "execute_result"
    }
   ],
   "source": [
    "dim_cust_data.head()"
   ]
  },
  {
   "cell_type": "code",
   "execution_count": 0,
   "metadata": {
    "application/vnd.databricks.v1+cell": {
     "cellMetadata": {
      "byteLimit": 2048000,
      "rowLimit": 10000
     },
     "inputWidgets": {},
     "nuid": "aad37e34-6744-4c07-a8d6-bc767553bd4d",
     "showTitle": false,
     "title": ""
    }
   },
   "outputs": [
    {
     "output_type": "execute_result",
     "data": {
      "text/html": [
       "<div>\n",
       "<style scoped>\n",
       "    .dataframe tbody tr th:only-of-type {\n",
       "        vertical-align: middle;\n",
       "    }\n",
       "\n",
       "    .dataframe tbody tr th {\n",
       "        vertical-align: top;\n",
       "    }\n",
       "\n",
       "    .dataframe thead th {\n",
       "        text-align: right;\n",
       "    }\n",
       "</style>\n",
       "<table border=\"1\" class=\"dataframe\">\n",
       "  <thead>\n",
       "    <tr style=\"text-align: right;\">\n",
       "      <th></th>\n",
       "      <th>loan_type</th>\n",
       "      <th>rate</th>\n",
       "      <th>product</th>\n",
       "    </tr>\n",
       "  </thead>\n",
       "  <tbody>\n",
       "    <tr>\n",
       "      <th>0</th>\n",
       "      <td>1</td>\n",
       "      <td>11.5</td>\n",
       "      <td>Secured</td>\n",
       "    </tr>\n",
       "    <tr>\n",
       "      <th>1</th>\n",
       "      <td>2</td>\n",
       "      <td>14.81</td>\n",
       "      <td>Unsecured</td>\n",
       "    </tr>\n",
       "    <tr>\n",
       "      <th>2</th>\n",
       "      <td>3</td>\n",
       "      <td>13.9</td>\n",
       "      <td>Consumer Goods</td>\n",
       "    </tr>\n",
       "    <tr>\n",
       "      <th>3</th>\n",
       "      <td>4</td>\n",
       "      <td>11</td>\n",
       "      <td>Gold</td>\n",
       "    </tr>\n",
       "    <tr>\n",
       "      <th>4</th>\n",
       "      <td>5</td>\n",
       "      <td>15</td>\n",
       "      <td>Personal</td>\n",
       "    </tr>\n",
       "  </tbody>\n",
       "</table>\n",
       "</div>"
      ],
      "text/plain": [
       "  loan_type   rate         product\n",
       "0         1   11.5         Secured\n",
       "1         2  14.81       Unsecured\n",
       "2         3   13.9  Consumer Goods\n",
       "3         4     11            Gold\n",
       "4         5     15        Personal"
      ]
     },
     "execution_count": 17,
     "metadata": {},
     "output_type": "execute_result"
    }
   ],
   "source": [
    "dim_loan_data.head()"
   ]
  },
  {
   "cell_type": "code",
   "execution_count": 0,
   "metadata": {
    "application/vnd.databricks.v1+cell": {
     "cellMetadata": {
      "byteLimit": 2048000,
      "rowLimit": 10000
     },
     "inputWidgets": {},
     "nuid": "90c39706-c19d-497b-9d00-ac43dba4d294",
     "showTitle": false,
     "title": ""
    }
   },
   "outputs": [
    {
     "output_type": "execute_result",
     "data": {
      "text/html": [
       "<div>\n",
       "<style scoped>\n",
       "    .dataframe tbody tr th:only-of-type {\n",
       "        vertical-align: middle;\n",
       "    }\n",
       "\n",
       "    .dataframe tbody tr th {\n",
       "        vertical-align: top;\n",
       "    }\n",
       "\n",
       "    .dataframe thead th {\n",
       "        text-align: right;\n",
       "    }\n",
       "</style>\n",
       "<table border=\"1\" class=\"dataframe\">\n",
       "  <thead>\n",
       "    <tr style=\"text-align: right;\">\n",
       "      <th></th>\n",
       "      <th>id</th>\n",
       "      <th>cc_number</th>\n",
       "      <th>cvv</th>\n",
       "      <th>cc_accountnumber</th>\n",
       "      <th>date_of_issue</th>\n",
       "      <th>limit</th>\n",
       "    </tr>\n",
       "  </thead>\n",
       "  <tbody>\n",
       "    <tr>\n",
       "      <th>0</th>\n",
       "      <td>10001</td>\n",
       "      <td>6709-7200-0000-0000</td>\n",
       "      <td>901</td>\n",
       "      <td>78943001</td>\n",
       "      <td>2023-01-04T11:56:07+01:00</td>\n",
       "      <td>100000</td>\n",
       "    </tr>\n",
       "    <tr>\n",
       "      <th>1</th>\n",
       "      <td>10002</td>\n",
       "      <td>6759-3800-0000-0000</td>\n",
       "      <td>696</td>\n",
       "      <td>78943002</td>\n",
       "      <td>2023-02-07T08:31:24+01:00</td>\n",
       "      <td>150000</td>\n",
       "    </tr>\n",
       "    <tr>\n",
       "      <th>2</th>\n",
       "      <td>10003</td>\n",
       "      <td>5018-6700-0000-0000</td>\n",
       "      <td>296</td>\n",
       "      <td>78943003</td>\n",
       "      <td>2023-01-13T19:16:02+01:00</td>\n",
       "      <td>250000</td>\n",
       "    </tr>\n",
       "    <tr>\n",
       "      <th>3</th>\n",
       "      <td>10004</td>\n",
       "      <td>5458-3146-7492-9964</td>\n",
       "      <td>258</td>\n",
       "      <td>78943004</td>\n",
       "      <td>2023-05-04T23:11:25+02:00</td>\n",
       "      <td>300000</td>\n",
       "    </tr>\n",
       "    <tr>\n",
       "      <th>4</th>\n",
       "      <td>10005</td>\n",
       "      <td>4089-1258-1779-5975</td>\n",
       "      <td>457</td>\n",
       "      <td>78943005</td>\n",
       "      <td>2023-01-21T23:26:41+01:00</td>\n",
       "      <td>60000</td>\n",
       "    </tr>\n",
       "  </tbody>\n",
       "</table>\n",
       "</div>"
      ],
      "text/plain": [
       "      id            cc_number  ...              date_of_issue   limit\n",
       "0  10001  6709-7200-0000-0000  ...  2023-01-04T11:56:07+01:00  100000\n",
       "1  10002  6759-3800-0000-0000  ...  2023-02-07T08:31:24+01:00  150000\n",
       "2  10003  5018-6700-0000-0000  ...  2023-01-13T19:16:02+01:00  250000\n",
       "3  10004  5458-3146-7492-9964  ...  2023-05-04T23:11:25+02:00  300000\n",
       "4  10005  4089-1258-1779-5975  ...  2023-01-21T23:26:41+01:00   60000\n",
       "\n",
       "[5 rows x 6 columns]"
      ]
     },
     "execution_count": 18,
     "metadata": {},
     "output_type": "execute_result"
    }
   ],
   "source": [
    "cc_data.head()"
   ]
  },
  {
   "cell_type": "code",
   "execution_count": 0,
   "metadata": {
    "application/vnd.databricks.v1+cell": {
     "cellMetadata": {
      "byteLimit": 2048000,
      "rowLimit": 10000
     },
     "inputWidgets": {},
     "nuid": "0835ae8b-fa06-4572-a698-e9c492085fd7",
     "showTitle": false,
     "title": ""
    }
   },
   "outputs": [
    {
     "output_type": "execute_result",
     "data": {
      "text/html": [
       "<div>\n",
       "<style scoped>\n",
       "    .dataframe tbody tr th:only-of-type {\n",
       "        vertical-align: middle;\n",
       "    }\n",
       "\n",
       "    .dataframe tbody tr th {\n",
       "        vertical-align: top;\n",
       "    }\n",
       "\n",
       "    .dataframe thead th {\n",
       "        text-align: right;\n",
       "    }\n",
       "</style>\n",
       "<table border=\"1\" class=\"dataframe\">\n",
       "  <thead>\n",
       "    <tr style=\"text-align: right;\">\n",
       "      <th></th>\n",
       "      <th>cc_number</th>\n",
       "      <th>cvv</th>\n",
       "      <th>cc_accountnumber</th>\n",
       "      <th>transaction_date</th>\n",
       "      <th>transaction_amount</th>\n",
       "    </tr>\n",
       "  </thead>\n",
       "  <tbody>\n",
       "    <tr>\n",
       "      <th>0</th>\n",
       "      <td>6709-7200-0000-0000</td>\n",
       "      <td>901</td>\n",
       "      <td>78943001</td>\n",
       "      <td>5/1/2023</td>\n",
       "      <td>10000</td>\n",
       "    </tr>\n",
       "    <tr>\n",
       "      <th>1</th>\n",
       "      <td>6709-7200-0000-0000</td>\n",
       "      <td>901</td>\n",
       "      <td>78943001</td>\n",
       "      <td>10/3/2023</td>\n",
       "      <td>12000</td>\n",
       "    </tr>\n",
       "    <tr>\n",
       "      <th>2</th>\n",
       "      <td>6709-7200-0000-0000</td>\n",
       "      <td>901</td>\n",
       "      <td>78943001</td>\n",
       "      <td>11/22/2023</td>\n",
       "      <td>6000</td>\n",
       "    </tr>\n",
       "    <tr>\n",
       "      <th>3</th>\n",
       "      <td>6759-3800-0000-0000</td>\n",
       "      <td>696</td>\n",
       "      <td>78943002</td>\n",
       "      <td>2/15/2023</td>\n",
       "      <td>19000</td>\n",
       "    </tr>\n",
       "    <tr>\n",
       "      <th>4</th>\n",
       "      <td>6759-3800-0000-0000</td>\n",
       "      <td>696</td>\n",
       "      <td>78943002</td>\n",
       "      <td>3/1/2023</td>\n",
       "      <td>23000</td>\n",
       "    </tr>\n",
       "  </tbody>\n",
       "</table>\n",
       "</div>"
      ],
      "text/plain": [
       "             cc_number  cvv  ... transaction_date transaction_amount\n",
       "0  6709-7200-0000-0000  901  ...         5/1/2023              10000\n",
       "1  6709-7200-0000-0000  901  ...        10/3/2023              12000\n",
       "2  6709-7200-0000-0000  901  ...       11/22/2023               6000\n",
       "3  6759-3800-0000-0000  696  ...        2/15/2023              19000\n",
       "4  6759-3800-0000-0000  696  ...         3/1/2023              23000\n",
       "\n",
       "[5 rows x 5 columns]"
      ]
     },
     "execution_count": 19,
     "metadata": {},
     "output_type": "execute_result"
    }
   ],
   "source": [
    "cc_trans_data.head()"
   ]
  },
  {
   "cell_type": "code",
   "execution_count": 0,
   "metadata": {
    "application/vnd.databricks.v1+cell": {
     "cellMetadata": {
      "byteLimit": 2048000,
      "rowLimit": 10000
     },
     "inputWidgets": {},
     "nuid": "55a9dec2-e3c4-42b8-bbad-524863b07777",
     "showTitle": false,
     "title": ""
    }
   },
   "outputs": [
    {
     "output_type": "execute_result",
     "data": {
      "text/html": [
       "<div>\n",
       "<style scoped>\n",
       "    .dataframe tbody tr th:only-of-type {\n",
       "        vertical-align: middle;\n",
       "    }\n",
       "\n",
       "    .dataframe tbody tr th {\n",
       "        vertical-align: top;\n",
       "    }\n",
       "\n",
       "    .dataframe thead th {\n",
       "        text-align: right;\n",
       "    }\n",
       "</style>\n",
       "<table border=\"1\" class=\"dataframe\">\n",
       "  <thead>\n",
       "    <tr style=\"text-align: right;\">\n",
       "      <th></th>\n",
       "      <th>id</th>\n",
       "      <th>loan_type</th>\n",
       "      <th>principal_amount</th>\n",
       "      <th>lan</th>\n",
       "      <th>date_of_loan</th>\n",
       "      <th>duration</th>\n",
       "      <th>payable_amount</th>\n",
       "    </tr>\n",
       "  </thead>\n",
       "  <tbody>\n",
       "    <tr>\n",
       "      <th>0</th>\n",
       "      <td>10001</td>\n",
       "      <td>1</td>\n",
       "      <td>50000</td>\n",
       "      <td>88478908</td>\n",
       "      <td>2023-06-14T03:16:52+02:00</td>\n",
       "      <td>1</td>\n",
       "      <td>68000</td>\n",
       "    </tr>\n",
       "    <tr>\n",
       "      <th>1</th>\n",
       "      <td>10002</td>\n",
       "      <td>2</td>\n",
       "      <td>55000</td>\n",
       "      <td>85518292</td>\n",
       "      <td>2024-01-18T13:10:43+01:00</td>\n",
       "      <td>1</td>\n",
       "      <td>73000</td>\n",
       "    </tr>\n",
       "    <tr>\n",
       "      <th>2</th>\n",
       "      <td>10003</td>\n",
       "      <td>1</td>\n",
       "      <td>60000</td>\n",
       "      <td>54720840</td>\n",
       "      <td>2023-09-23T12:57:06+02:00</td>\n",
       "      <td>1</td>\n",
       "      <td>78000</td>\n",
       "    </tr>\n",
       "    <tr>\n",
       "      <th>3</th>\n",
       "      <td>10004</td>\n",
       "      <td>1</td>\n",
       "      <td>13000</td>\n",
       "      <td>25193224</td>\n",
       "      <td>2023-11-13T10:38:15+01:00</td>\n",
       "      <td>0.3</td>\n",
       "      <td>31000</td>\n",
       "    </tr>\n",
       "    <tr>\n",
       "      <th>4</th>\n",
       "      <td>10005</td>\n",
       "      <td>4</td>\n",
       "      <td>20000</td>\n",
       "      <td>35946485</td>\n",
       "      <td>2023-05-17T12:15:57+02:00</td>\n",
       "      <td>0.3</td>\n",
       "      <td>38000</td>\n",
       "    </tr>\n",
       "  </tbody>\n",
       "</table>\n",
       "</div>"
      ],
      "text/plain": [
       "      id loan_type  ... duration payable_amount\n",
       "0  10001         1  ...        1          68000\n",
       "1  10002         2  ...        1          73000\n",
       "2  10003         1  ...        1          78000\n",
       "3  10004         1  ...      0.3          31000\n",
       "4  10005         4  ...      0.3          38000\n",
       "\n",
       "[5 rows x 7 columns]"
      ]
     },
     "execution_count": 20,
     "metadata": {},
     "output_type": "execute_result"
    }
   ],
   "source": [
    "fact_loan_data.head()"
   ]
  },
  {
   "cell_type": "markdown",
   "metadata": {
    "application/vnd.databricks.v1+cell": {
     "cellMetadata": {},
     "inputWidgets": {},
     "nuid": "69c65f68-79db-47c2-ae0a-629168ca4ed7",
     "showTitle": false,
     "title": ""
    }
   },
   "source": [
    "Convert datatypes and create function to handle dates"
   ]
  },
  {
   "cell_type": "code",
   "execution_count": 0,
   "metadata": {
    "application/vnd.databricks.v1+cell": {
     "cellMetadata": {
      "byteLimit": 2048000,
      "rowLimit": 10000
     },
     "inputWidgets": {},
     "nuid": "1ec34e1e-778e-44a3-a6ed-2581631298af",
     "showTitle": false,
     "title": ""
    }
   },
   "outputs": [],
   "source": [
    "cc_trans_data[['transaction_amount']] = cc_trans_data[['transaction_amount']].apply(pd.to_numeric)"
   ]
  },
  {
   "cell_type": "code",
   "execution_count": 0,
   "metadata": {
    "application/vnd.databricks.v1+cell": {
     "cellMetadata": {
      "byteLimit": 2048000,
      "rowLimit": 10000
     },
     "inputWidgets": {},
     "nuid": "e312f26b-01bd-41fb-86bd-4360afb0d8f7",
     "showTitle": false,
     "title": ""
    }
   },
   "outputs": [],
   "source": [
    "from datetime import date, datetime, time\n",
    "def time_convert(Date_Issue):\n",
    "    stripped_time = datetime.fromisoformat(Date_Issue).astimezone(timezone.utc).strftime('%Y-%m-%d')\n",
    "    return stripped_time\n"
   ]
  },
  {
   "cell_type": "markdown",
   "metadata": {
    "application/vnd.databricks.v1+cell": {
     "cellMetadata": {},
     "inputWidgets": {},
     "nuid": "5c9ac756-2b64-4d31-9367-ddcb0277f2a2",
     "showTitle": false,
     "title": ""
    }
   },
   "source": [
    "Starting data transformation"
   ]
  },
  {
   "cell_type": "code",
   "execution_count": 0,
   "metadata": {
    "application/vnd.databricks.v1+cell": {
     "cellMetadata": {
      "byteLimit": 2048000,
      "rowLimit": 10000
     },
     "inputWidgets": {},
     "nuid": "a1a80c9b-20ef-49a9-a4a1-7dbd8100428d",
     "showTitle": false,
     "title": ""
    }
   },
   "outputs": [],
   "source": [
    "cc_data['date_of_issue'] = cc_data['date_of_issue'].apply(time_convert)\n",
    "fact_loan_data['date_of_loan'] = fact_loan_data['date_of_loan'].apply(time_convert)\n",
    "\n",
    "dim_loan_data.rename(columns={'Loan Type':'Loan_Type'},inplace=True)\n",
    "\n",
    "loan_df = pd.merge(dim_loan_data,fact_loan_data, on='loan_type')\n",
    "cust_loan_df = pd.merge(loan_df,dim_cust_data,on='id')\n",
    "cc_df = pd.merge(cc_trans_data,cc_data,on='cc_number',how='outer')\n"
   ]
  },
  {
   "cell_type": "code",
   "execution_count": 0,
   "metadata": {
    "application/vnd.databricks.v1+cell": {
     "cellMetadata": {
      "byteLimit": 2048000,
      "rowLimit": 10000
     },
     "inputWidgets": {},
     "nuid": "62d7abf1-066a-4786-b3cd-c0cd2642c220",
     "showTitle": false,
     "title": ""
    }
   },
   "outputs": [],
   "source": [
    "#cc_df.head()\n",
    "cc_df = cc_df.drop(['cvv_x','cc_accountnumber_x'],axis=1)"
   ]
  },
  {
   "cell_type": "code",
   "execution_count": 0,
   "metadata": {
    "application/vnd.databricks.v1+cell": {
     "cellMetadata": {
      "byteLimit": 2048000,
      "rowLimit": 10000
     },
     "inputWidgets": {},
     "nuid": "2c358999-0175-440f-8a72-62170f69d7f4",
     "showTitle": false,
     "title": ""
    },
    "jupyter": {
     "outputs_hidden": true
    }
   },
   "outputs": [
    {
     "output_type": "execute_result",
     "data": {
      "text/html": [
       "<div>\n",
       "<style scoped>\n",
       "    .dataframe tbody tr th:only-of-type {\n",
       "        vertical-align: middle;\n",
       "    }\n",
       "\n",
       "    .dataframe tbody tr th {\n",
       "        vertical-align: top;\n",
       "    }\n",
       "\n",
       "    .dataframe thead th {\n",
       "        text-align: right;\n",
       "    }\n",
       "</style>\n",
       "<table border=\"1\" class=\"dataframe\">\n",
       "  <thead>\n",
       "    <tr style=\"text-align: right;\">\n",
       "      <th></th>\n",
       "      <th>cc_number</th>\n",
       "      <th>transaction_date</th>\n",
       "      <th>transaction_amount</th>\n",
       "      <th>id</th>\n",
       "      <th>cvv_y</th>\n",
       "      <th>cc_accountnumber_y</th>\n",
       "      <th>date_of_issue</th>\n",
       "      <th>limit</th>\n",
       "    </tr>\n",
       "  </thead>\n",
       "  <tbody>\n",
       "    <tr>\n",
       "      <th>0</th>\n",
       "      <td>6709-7200-0000-0000</td>\n",
       "      <td>5/1/2023</td>\n",
       "      <td>10000.0</td>\n",
       "      <td>10001</td>\n",
       "      <td>901</td>\n",
       "      <td>78943001</td>\n",
       "      <td>2023-01-04</td>\n",
       "      <td>100000</td>\n",
       "    </tr>\n",
       "    <tr>\n",
       "      <th>1</th>\n",
       "      <td>6709-7200-0000-0000</td>\n",
       "      <td>10/3/2023</td>\n",
       "      <td>12000.0</td>\n",
       "      <td>10001</td>\n",
       "      <td>901</td>\n",
       "      <td>78943001</td>\n",
       "      <td>2023-01-04</td>\n",
       "      <td>100000</td>\n",
       "    </tr>\n",
       "    <tr>\n",
       "      <th>2</th>\n",
       "      <td>6709-7200-0000-0000</td>\n",
       "      <td>11/22/2023</td>\n",
       "      <td>6000.0</td>\n",
       "      <td>10001</td>\n",
       "      <td>901</td>\n",
       "      <td>78943001</td>\n",
       "      <td>2023-01-04</td>\n",
       "      <td>100000</td>\n",
       "    </tr>\n",
       "    <tr>\n",
       "      <th>3</th>\n",
       "      <td>6759-3800-0000-0000</td>\n",
       "      <td>2/15/2023</td>\n",
       "      <td>19000.0</td>\n",
       "      <td>10002</td>\n",
       "      <td>696</td>\n",
       "      <td>78943002</td>\n",
       "      <td>2023-02-07</td>\n",
       "      <td>150000</td>\n",
       "    </tr>\n",
       "    <tr>\n",
       "      <th>4</th>\n",
       "      <td>6759-3800-0000-0000</td>\n",
       "      <td>3/1/2023</td>\n",
       "      <td>23000.0</td>\n",
       "      <td>10002</td>\n",
       "      <td>696</td>\n",
       "      <td>78943002</td>\n",
       "      <td>2023-02-07</td>\n",
       "      <td>150000</td>\n",
       "    </tr>\n",
       "  </tbody>\n",
       "</table>\n",
       "</div>"
      ],
      "text/plain": [
       "             cc_number transaction_date  ...  date_of_issue   limit\n",
       "0  6709-7200-0000-0000         5/1/2023  ...     2023-01-04  100000\n",
       "1  6709-7200-0000-0000        10/3/2023  ...     2023-01-04  100000\n",
       "2  6709-7200-0000-0000       11/22/2023  ...     2023-01-04  100000\n",
       "3  6759-3800-0000-0000        2/15/2023  ...     2023-02-07  150000\n",
       "4  6759-3800-0000-0000         3/1/2023  ...     2023-02-07  150000\n",
       "\n",
       "[5 rows x 8 columns]"
      ]
     },
     "execution_count": 25,
     "metadata": {},
     "output_type": "execute_result"
    }
   ],
   "source": [
    "cc_df.head()"
   ]
  },
  {
   "cell_type": "code",
   "execution_count": 0,
   "metadata": {
    "application/vnd.databricks.v1+cell": {
     "cellMetadata": {
      "byteLimit": 2048000,
      "rowLimit": 10000
     },
     "inputWidgets": {},
     "nuid": "63df92a7-8c26-4c8e-b6c9-c2550766ef9f",
     "showTitle": false,
     "title": ""
    },
    "jupyter": {
     "outputs_hidden": true
    }
   },
   "outputs": [
    {
     "output_type": "execute_result",
     "data": {
      "text/html": [
       "<div>\n",
       "<style scoped>\n",
       "    .dataframe tbody tr th:only-of-type {\n",
       "        vertical-align: middle;\n",
       "    }\n",
       "\n",
       "    .dataframe tbody tr th {\n",
       "        vertical-align: top;\n",
       "    }\n",
       "\n",
       "    .dataframe thead th {\n",
       "        text-align: right;\n",
       "    }\n",
       "</style>\n",
       "<table border=\"1\" class=\"dataframe\">\n",
       "  <thead>\n",
       "    <tr style=\"text-align: right;\">\n",
       "      <th></th>\n",
       "      <th>id</th>\n",
       "      <th>transaction_amount</th>\n",
       "      <th>limit</th>\n",
       "      <th>transaction_date</th>\n",
       "    </tr>\n",
       "  </thead>\n",
       "  <tbody>\n",
       "    <tr>\n",
       "      <th>0</th>\n",
       "      <td>10001</td>\n",
       "      <td>10000.0</td>\n",
       "      <td>100000</td>\n",
       "      <td>5/1/2023</td>\n",
       "    </tr>\n",
       "    <tr>\n",
       "      <th>1</th>\n",
       "      <td>10001</td>\n",
       "      <td>12000.0</td>\n",
       "      <td>100000</td>\n",
       "      <td>10/3/2023</td>\n",
       "    </tr>\n",
       "    <tr>\n",
       "      <th>2</th>\n",
       "      <td>10001</td>\n",
       "      <td>6000.0</td>\n",
       "      <td>100000</td>\n",
       "      <td>11/22/2023</td>\n",
       "    </tr>\n",
       "    <tr>\n",
       "      <th>3</th>\n",
       "      <td>10002</td>\n",
       "      <td>19000.0</td>\n",
       "      <td>150000</td>\n",
       "      <td>2/15/2023</td>\n",
       "    </tr>\n",
       "    <tr>\n",
       "      <th>4</th>\n",
       "      <td>10002</td>\n",
       "      <td>23000.0</td>\n",
       "      <td>150000</td>\n",
       "      <td>3/1/2023</td>\n",
       "    </tr>\n",
       "  </tbody>\n",
       "</table>\n",
       "</div>"
      ],
      "text/plain": [
       "      id  transaction_amount   limit transaction_date\n",
       "0  10001             10000.0  100000         5/1/2023\n",
       "1  10001             12000.0  100000        10/3/2023\n",
       "2  10001              6000.0  100000       11/22/2023\n",
       "3  10002             19000.0  150000        2/15/2023\n",
       "4  10002             23000.0  150000         3/1/2023"
      ]
     },
     "execution_count": 26,
     "metadata": {},
     "output_type": "execute_result"
    }
   ],
   "source": [
    "cc_1 = cc_df.filter(['id','transaction_amount','limit','transaction_date'],axis=1)\n",
    "cc_1.head()"
   ]
  },
  {
   "cell_type": "code",
   "execution_count": 0,
   "metadata": {
    "application/vnd.databricks.v1+cell": {
     "cellMetadata": {
      "byteLimit": 2048000,
      "rowLimit": 10000
     },
     "inputWidgets": {},
     "nuid": "c3134268-c61c-4807-aca2-b0c78482a681",
     "showTitle": false,
     "title": ""
    }
   },
   "outputs": [
    {
     "output_type": "execute_result",
     "data": {
      "text/plain": [
       "id\n",
       "10001    28000.0\n",
       "10002    45500.0\n",
       "10003    74000.0\n",
       "10004    22000.0\n",
       "10005    23000.0\n",
       "Name: transaction_amount, dtype: float64"
      ]
     },
     "execution_count": 27,
     "metadata": {},
     "output_type": "execute_result"
    }
   ],
   "source": [
    "cc_2= cc_1.groupby('id')['transaction_amount'].sum()\n",
    "cc_2.head()"
   ]
  },
  {
   "cell_type": "code",
   "execution_count": 0,
   "metadata": {
    "application/vnd.databricks.v1+cell": {
     "cellMetadata": {
      "byteLimit": 2048000,
      "rowLimit": 10000
     },
     "inputWidgets": {},
     "nuid": "95489d65-a208-45d2-807c-b84f9bb020d4",
     "showTitle": false,
     "title": ""
    }
   },
   "outputs": [],
   "source": [
    "cc_3 = cc_1.groupby('id')['transaction_date'].count()\n",
    "cc_4 = pd.merge(cc_2,cc_3,on='id')\n",
    "cc_feature_prep = pd.merge(cc_4,cc_data,on='id')"
   ]
  },
  {
   "cell_type": "code",
   "execution_count": 0,
   "metadata": {
    "application/vnd.databricks.v1+cell": {
     "cellMetadata": {
      "byteLimit": 2048000,
      "rowLimit": 10000
     },
     "inputWidgets": {},
     "nuid": "6552c840-4ae9-4511-b4e9-07b64158eaf2",
     "showTitle": false,
     "title": ""
    }
   },
   "outputs": [
    {
     "output_type": "execute_result",
     "data": {
      "text/html": [
       "<div>\n",
       "<style scoped>\n",
       "    .dataframe tbody tr th:only-of-type {\n",
       "        vertical-align: middle;\n",
       "    }\n",
       "\n",
       "    .dataframe tbody tr th {\n",
       "        vertical-align: top;\n",
       "    }\n",
       "\n",
       "    .dataframe thead th {\n",
       "        text-align: right;\n",
       "    }\n",
       "</style>\n",
       "<table border=\"1\" class=\"dataframe\">\n",
       "  <thead>\n",
       "    <tr style=\"text-align: right;\">\n",
       "      <th></th>\n",
       "      <th>id</th>\n",
       "      <th>transaction_amount</th>\n",
       "      <th>transaction_date</th>\n",
       "      <th>cc_number</th>\n",
       "      <th>cvv</th>\n",
       "      <th>cc_accountnumber</th>\n",
       "      <th>date_of_issue</th>\n",
       "      <th>limit</th>\n",
       "    </tr>\n",
       "  </thead>\n",
       "  <tbody>\n",
       "    <tr>\n",
       "      <th>0</th>\n",
       "      <td>10001</td>\n",
       "      <td>28000.0</td>\n",
       "      <td>3</td>\n",
       "      <td>6709-7200-0000-0000</td>\n",
       "      <td>901</td>\n",
       "      <td>78943001</td>\n",
       "      <td>2023-01-04</td>\n",
       "      <td>100000</td>\n",
       "    </tr>\n",
       "    <tr>\n",
       "      <th>1</th>\n",
       "      <td>10002</td>\n",
       "      <td>45500.0</td>\n",
       "      <td>3</td>\n",
       "      <td>6759-3800-0000-0000</td>\n",
       "      <td>696</td>\n",
       "      <td>78943002</td>\n",
       "      <td>2023-02-07</td>\n",
       "      <td>150000</td>\n",
       "    </tr>\n",
       "    <tr>\n",
       "      <th>2</th>\n",
       "      <td>10003</td>\n",
       "      <td>74000.0</td>\n",
       "      <td>5</td>\n",
       "      <td>5018-6700-0000-0000</td>\n",
       "      <td>296</td>\n",
       "      <td>78943003</td>\n",
       "      <td>2023-01-13</td>\n",
       "      <td>250000</td>\n",
       "    </tr>\n",
       "    <tr>\n",
       "      <th>3</th>\n",
       "      <td>10004</td>\n",
       "      <td>22000.0</td>\n",
       "      <td>1</td>\n",
       "      <td>5458-3146-7492-9964</td>\n",
       "      <td>258</td>\n",
       "      <td>78943004</td>\n",
       "      <td>2023-05-04</td>\n",
       "      <td>300000</td>\n",
       "    </tr>\n",
       "    <tr>\n",
       "      <th>4</th>\n",
       "      <td>10005</td>\n",
       "      <td>23000.0</td>\n",
       "      <td>3</td>\n",
       "      <td>4089-1258-1779-5975</td>\n",
       "      <td>457</td>\n",
       "      <td>78943005</td>\n",
       "      <td>2023-01-21</td>\n",
       "      <td>60000</td>\n",
       "    </tr>\n",
       "  </tbody>\n",
       "</table>\n",
       "</div>"
      ],
      "text/plain": [
       "      id  transaction_amount  ...  date_of_issue   limit\n",
       "0  10001             28000.0  ...     2023-01-04  100000\n",
       "1  10002             45500.0  ...     2023-02-07  150000\n",
       "2  10003             74000.0  ...     2023-01-13  250000\n",
       "3  10004             22000.0  ...     2023-05-04  300000\n",
       "4  10005             23000.0  ...     2023-01-21   60000\n",
       "\n",
       "[5 rows x 8 columns]"
      ]
     },
     "execution_count": 29,
     "metadata": {},
     "output_type": "execute_result"
    }
   ],
   "source": [
    "cc_feature_prep.head()"
   ]
  },
  {
   "cell_type": "code",
   "execution_count": 0,
   "metadata": {
    "application/vnd.databricks.v1+cell": {
     "cellMetadata": {
      "byteLimit": 2048000,
      "rowLimit": 10000
     },
     "inputWidgets": {},
     "nuid": "2242fd70-d476-4ded-a9ec-0634b0383c42",
     "showTitle": false,
     "title": ""
    }
   },
   "outputs": [],
   "source": [
    "cc_feature_prep.rename(columns = {'transaction_date':'trans_count','transaction_amount':'total_trans_amt'},inplace=True)\n",
    "cc_feature_prep.head()\n",
    "cc_feature_copy = cc_feature_prep.copy()\n",
    "\n",
    "cc_feature_prep = cc_feature_prep.filter(['id','total_trans_amt','limit','trans_count'],axis=1)"
   ]
  },
  {
   "cell_type": "code",
   "execution_count": 0,
   "metadata": {
    "application/vnd.databricks.v1+cell": {
     "cellMetadata": {
      "byteLimit": 2048000,
      "rowLimit": 10000
     },
     "collapsed": true,
     "inputWidgets": {},
     "nuid": "a6578bff-ea0e-49fc-b5b9-337d032fdf82",
     "showTitle": false,
     "title": ""
    },
    "jupyter": {
     "source_hidden": true
    }
   },
   "outputs": [
    {
     "output_type": "execute_result",
     "data": {
      "text/html": [
       "<div>\n",
       "<style scoped>\n",
       "    .dataframe tbody tr th:only-of-type {\n",
       "        vertical-align: middle;\n",
       "    }\n",
       "\n",
       "    .dataframe tbody tr th {\n",
       "        vertical-align: top;\n",
       "    }\n",
       "\n",
       "    .dataframe thead th {\n",
       "        text-align: right;\n",
       "    }\n",
       "</style>\n",
       "<table border=\"1\" class=\"dataframe\">\n",
       "  <thead>\n",
       "    <tr style=\"text-align: right;\">\n",
       "      <th></th>\n",
       "      <th>id</th>\n",
       "    </tr>\n",
       "  </thead>\n",
       "  <tbody>\n",
       "    <tr>\n",
       "      <th>0</th>\n",
       "      <td>10001</td>\n",
       "    </tr>\n",
       "    <tr>\n",
       "      <th>1</th>\n",
       "      <td>10002</td>\n",
       "    </tr>\n",
       "    <tr>\n",
       "      <th>2</th>\n",
       "      <td>10003</td>\n",
       "    </tr>\n",
       "    <tr>\n",
       "      <th>3</th>\n",
       "      <td>10004</td>\n",
       "    </tr>\n",
       "    <tr>\n",
       "      <th>4</th>\n",
       "      <td>10005</td>\n",
       "    </tr>\n",
       "  </tbody>\n",
       "</table>\n",
       "</div>"
      ],
      "text/plain": [
       "      id\n",
       "0  10001\n",
       "1  10002\n",
       "2  10003\n",
       "3  10004\n",
       "4  10005"
      ]
     },
     "execution_count": 33,
     "metadata": {},
     "output_type": "execute_result"
    }
   ],
   "source": [
    "cc_feature_prep.head()"
   ]
  },
  {
   "cell_type": "code",
   "execution_count": 0,
   "metadata": {
    "application/vnd.databricks.v1+cell": {
     "cellMetadata": {
      "byteLimit": 2048000,
      "rowLimit": 10000
     },
     "collapsed": true,
     "inputWidgets": {},
     "nuid": "7965c7e1-f397-4286-9183-ce8fa1475e23",
     "showTitle": false,
     "title": ""
    }
   },
   "outputs": [
    {
     "output_type": "execute_result",
     "data": {
      "text/html": [
       "<div>\n",
       "<style scoped>\n",
       "    .dataframe tbody tr th:only-of-type {\n",
       "        vertical-align: middle;\n",
       "    }\n",
       "\n",
       "    .dataframe tbody tr th {\n",
       "        vertical-align: top;\n",
       "    }\n",
       "\n",
       "    .dataframe thead th {\n",
       "        text-align: right;\n",
       "    }\n",
       "</style>\n",
       "<table border=\"1\" class=\"dataframe\">\n",
       "  <thead>\n",
       "    <tr style=\"text-align: right;\">\n",
       "      <th></th>\n",
       "      <th>loan_type</th>\n",
       "      <th>rate</th>\n",
       "      <th>product</th>\n",
       "      <th>id</th>\n",
       "      <th>principal_amount</th>\n",
       "      <th>lan</th>\n",
       "      <th>date_of_loan</th>\n",
       "      <th>duration</th>\n",
       "      <th>payable_amount</th>\n",
       "      <th>firstname</th>\n",
       "      <th>lastname</th>\n",
       "      <th>email</th>\n",
       "      <th>gender</th>\n",
       "      <th>city</th>\n",
       "      <th>state</th>\n",
       "      <th>phone</th>\n",
       "      <th>pin</th>\n",
       "    </tr>\n",
       "  </thead>\n",
       "  <tbody>\n",
       "    <tr>\n",
       "      <th>0</th>\n",
       "      <td>1</td>\n",
       "      <td>11.5</td>\n",
       "      <td>Secured</td>\n",
       "      <td>10001</td>\n",
       "      <td>50000</td>\n",
       "      <td>88478908</td>\n",
       "      <td>2023-06-14</td>\n",
       "      <td>1</td>\n",
       "      <td>68000</td>\n",
       "      <td>Orlando</td>\n",
       "      <td>Flatley-Veum</td>\n",
       "      <td>Orlando_Flatley-Veum@gmail.com</td>\n",
       "      <td>male</td>\n",
       "      <td>Murphyboro</td>\n",
       "      <td>South Carolina</td>\n",
       "      <td>+1 (217) 198-0340</td>\n",
       "      <td>3439</td>\n",
       "    </tr>\n",
       "    <tr>\n",
       "      <th>1</th>\n",
       "      <td>5</td>\n",
       "      <td>15</td>\n",
       "      <td>Personal</td>\n",
       "      <td>10001</td>\n",
       "      <td>75000</td>\n",
       "      <td>16294220</td>\n",
       "      <td>2023-02-21</td>\n",
       "      <td>0.3</td>\n",
       "      <td>93000</td>\n",
       "      <td>Orlando</td>\n",
       "      <td>Flatley-Veum</td>\n",
       "      <td>Orlando_Flatley-Veum@gmail.com</td>\n",
       "      <td>male</td>\n",
       "      <td>Murphyboro</td>\n",
       "      <td>South Carolina</td>\n",
       "      <td>+1 (217) 198-0340</td>\n",
       "      <td>3439</td>\n",
       "    </tr>\n",
       "    <tr>\n",
       "      <th>2</th>\n",
       "      <td>1</td>\n",
       "      <td>11.5</td>\n",
       "      <td>Secured</td>\n",
       "      <td>10003</td>\n",
       "      <td>60000</td>\n",
       "      <td>54720840</td>\n",
       "      <td>2023-09-23</td>\n",
       "      <td>1</td>\n",
       "      <td>78000</td>\n",
       "      <td>Cynthia</td>\n",
       "      <td>Nolan</td>\n",
       "      <td>Cynthia12@gmail.com</td>\n",
       "      <td>female</td>\n",
       "      <td>Moreno Valley</td>\n",
       "      <td>Texas</td>\n",
       "      <td>+1 (311) 961-7236</td>\n",
       "      <td>3924</td>\n",
       "    </tr>\n",
       "    <tr>\n",
       "      <th>3</th>\n",
       "      <td>3</td>\n",
       "      <td>13.9</td>\n",
       "      <td>Consumer Goods</td>\n",
       "      <td>10003</td>\n",
       "      <td>20000</td>\n",
       "      <td>89461735</td>\n",
       "      <td>2023-11-13</td>\n",
       "      <td>0.3</td>\n",
       "      <td>38000</td>\n",
       "      <td>Cynthia</td>\n",
       "      <td>Nolan</td>\n",
       "      <td>Cynthia12@gmail.com</td>\n",
       "      <td>female</td>\n",
       "      <td>Moreno Valley</td>\n",
       "      <td>Texas</td>\n",
       "      <td>+1 (311) 961-7236</td>\n",
       "      <td>3924</td>\n",
       "    </tr>\n",
       "    <tr>\n",
       "      <th>4</th>\n",
       "      <td>1</td>\n",
       "      <td>11.5</td>\n",
       "      <td>Secured</td>\n",
       "      <td>10004</td>\n",
       "      <td>13000</td>\n",
       "      <td>25193224</td>\n",
       "      <td>2023-11-13</td>\n",
       "      <td>0.3</td>\n",
       "      <td>31000</td>\n",
       "      <td>Morris</td>\n",
       "      <td>McGlynn</td>\n",
       "      <td>Morris_McGlynn89@gmail.com</td>\n",
       "      <td>male</td>\n",
       "      <td>Dibbertborough</td>\n",
       "      <td>Alaska</td>\n",
       "      <td>+1 (436) 438-1272</td>\n",
       "      <td>2384</td>\n",
       "    </tr>\n",
       "  </tbody>\n",
       "</table>\n",
       "</div>"
      ],
      "text/plain": [
       "  loan_type  rate         product  ...           state              phone   pin\n",
       "0         1  11.5         Secured  ...  South Carolina  +1 (217) 198-0340  3439\n",
       "1         5    15        Personal  ...  South Carolina  +1 (217) 198-0340  3439\n",
       "2         1  11.5         Secured  ...           Texas  +1 (311) 961-7236  3924\n",
       "3         3  13.9  Consumer Goods  ...           Texas  +1 (311) 961-7236  3924\n",
       "4         1  11.5         Secured  ...          Alaska  +1 (436) 438-1272  2384\n",
       "\n",
       "[5 rows x 17 columns]"
      ]
     },
     "execution_count": 34,
     "metadata": {},
     "output_type": "execute_result"
    }
   ],
   "source": [
    "cust_loan_df.head()"
   ]
  },
  {
   "cell_type": "code",
   "execution_count": 0,
   "metadata": {
    "application/vnd.databricks.v1+cell": {
     "cellMetadata": {
      "byteLimit": 2048000,
      "rowLimit": 10000
     },
     "inputWidgets": {},
     "nuid": "14dc5896-d2af-4e58-b621-5cb66ee9ac4e",
     "showTitle": false,
     "title": ""
    }
   },
   "outputs": [
    {
     "output_type": "stream",
     "name": "stdout",
     "output_type": "stream",
     "text": [
      "<class 'pandas.core.frame.DataFrame'>\nInt64Index: 200 entries, 0 to 199\nData columns (total 4 columns):\n #   Column            Non-Null Count  Dtype \n---  ------            --------------  ----- \n 0   id                200 non-null    object\n 1   principal_amount  200 non-null    object\n 2   date_of_loan      200 non-null    object\n 3   payable_amount    200 non-null    object\ndtypes: object(4)\nmemory usage: 7.8+ KB\n"
     ]
    }
   ],
   "source": [
    "cl_f1 = cust_loan_df.filter(['id','principal_amount','date_of_loan','payable_amount'],axis=1)\n",
    "cl_f1.info()\n",
    "\n",
    "cl_f2 = cl_f1.filter(['id','principal_amount','payable_amount'],axis=1)\n"
   ]
  },
  {
   "cell_type": "code",
   "execution_count": 0,
   "metadata": {
    "application/vnd.databricks.v1+cell": {
     "cellMetadata": {
      "byteLimit": 2048000,
      "rowLimit": 10000
     },
     "inputWidgets": {},
     "nuid": "6074689e-ad58-4cf7-911f-0be2580bdead",
     "showTitle": false,
     "title": ""
    }
   },
   "outputs": [],
   "source": [
    "cl_f2.head()\n",
    "cl_f2[[\"principal_amount\", \"payable_amount\"]] = cl_f2[[\"principal_amount\", \"payable_amount\"]].apply(pd.to_numeric)"
   ]
  },
  {
   "cell_type": "code",
   "execution_count": 0,
   "metadata": {
    "application/vnd.databricks.v1+cell": {
     "cellMetadata": {
      "byteLimit": 2048000,
      "rowLimit": 10000
     },
     "collapsed": true,
     "inputWidgets": {},
     "nuid": "5b8a7e18-181a-45d0-9e04-f2d38e4a6da1",
     "showTitle": false,
     "title": ""
    }
   },
   "outputs": [
    {
     "output_type": "stream",
     "name": "stdout",
     "output_type": "stream",
     "text": [
      "<class 'pandas.core.frame.DataFrame'>\nInt64Index: 200 entries, 0 to 199\nData columns (total 3 columns):\n #   Column            Non-Null Count  Dtype \n---  ------            --------------  ----- \n 0   id                200 non-null    object\n 1   principal_amount  200 non-null    int64 \n 2   payable_amount    200 non-null    int64 \ndtypes: int64(2), object(1)\nmemory usage: 6.2+ KB\n"
     ]
    }
   ],
   "source": [
    "cl_f2.info()"
   ]
  },
  {
   "cell_type": "code",
   "execution_count": 0,
   "metadata": {
    "application/vnd.databricks.v1+cell": {
     "cellMetadata": {
      "byteLimit": 2048000,
      "rowLimit": 10000
     },
     "inputWidgets": {},
     "nuid": "00eee1a6-982b-4967-9327-00db1d9ec5fd",
     "showTitle": false,
     "title": ""
    }
   },
   "outputs": [],
   "source": [
    "cl_agg1 = cl_f2.groupby('id')[['principal_amount','payable_amount']].sum()"
   ]
  },
  {
   "cell_type": "code",
   "execution_count": 0,
   "metadata": {
    "application/vnd.databricks.v1+cell": {
     "cellMetadata": {
      "byteLimit": 2048000,
      "rowLimit": 10000
     },
     "inputWidgets": {},
     "nuid": "83e211df-7273-4a8e-bccd-19ace81c0410",
     "showTitle": false,
     "title": ""
    }
   },
   "outputs": [
    {
     "output_type": "execute_result",
     "data": {
      "text/html": [
       "<div>\n",
       "<style scoped>\n",
       "    .dataframe tbody tr th:only-of-type {\n",
       "        vertical-align: middle;\n",
       "    }\n",
       "\n",
       "    .dataframe tbody tr th {\n",
       "        vertical-align: top;\n",
       "    }\n",
       "\n",
       "    .dataframe thead th {\n",
       "        text-align: right;\n",
       "    }\n",
       "</style>\n",
       "<table border=\"1\" class=\"dataframe\">\n",
       "  <thead>\n",
       "    <tr style=\"text-align: right;\">\n",
       "      <th></th>\n",
       "      <th>principal_amount</th>\n",
       "      <th>payable_amount</th>\n",
       "    </tr>\n",
       "    <tr>\n",
       "      <th>id</th>\n",
       "      <th></th>\n",
       "      <th></th>\n",
       "    </tr>\n",
       "  </thead>\n",
       "  <tbody>\n",
       "    <tr>\n",
       "      <th>10001</th>\n",
       "      <td>125000</td>\n",
       "      <td>161000</td>\n",
       "    </tr>\n",
       "    <tr>\n",
       "      <th>10002</th>\n",
       "      <td>73000</td>\n",
       "      <td>109000</td>\n",
       "    </tr>\n",
       "    <tr>\n",
       "      <th>10003</th>\n",
       "      <td>80000</td>\n",
       "      <td>116000</td>\n",
       "    </tr>\n",
       "    <tr>\n",
       "      <th>10004</th>\n",
       "      <td>233000</td>\n",
       "      <td>269000</td>\n",
       "    </tr>\n",
       "    <tr>\n",
       "      <th>10005</th>\n",
       "      <td>38000</td>\n",
       "      <td>74000</td>\n",
       "    </tr>\n",
       "  </tbody>\n",
       "</table>\n",
       "</div>"
      ],
      "text/plain": [
       "       principal_amount  payable_amount\n",
       "id                                     \n",
       "10001            125000          161000\n",
       "10002             73000          109000\n",
       "10003             80000          116000\n",
       "10004            233000          269000\n",
       "10005             38000           74000"
      ]
     },
     "execution_count": 47,
     "metadata": {},
     "output_type": "execute_result"
    }
   ],
   "source": [
    "cl_agg1.head()"
   ]
  },
  {
   "cell_type": "code",
   "execution_count": 0,
   "metadata": {
    "application/vnd.databricks.v1+cell": {
     "cellMetadata": {
      "byteLimit": 2048000,
      "rowLimit": 10000
     },
     "inputWidgets": {},
     "nuid": "a0b5ee26-6f5a-45f1-8e3d-53f33b34a75f",
     "showTitle": false,
     "title": ""
    }
   },
   "outputs": [],
   "source": [
    "cl_f3 = cl_f1.filter([\"id\",\"date_of_loan\"],axis=1)\n",
    "cl_agg2 = cl_f3.groupby('id')['date_of_loan'].count()\n",
    "\n",
    "cl_final = pd.merge(cl_agg1,cl_agg2,on='id')\n",
    "\n",
    "test = pd.merge(cc_feature_prep,cl_final,on='id',how='outer')\n",
    "combined_df = pd.merge(cust_scores,test,on='id')\n",
    "feature_df = combined_df.fillna(0)"
   ]
  },
  {
   "cell_type": "markdown",
   "metadata": {
    "application/vnd.databricks.v1+cell": {
     "cellMetadata": {},
     "inputWidgets": {},
     "nuid": "0f54becb-6c26-47e6-9350-b437749efded",
     "showTitle": false,
     "title": ""
    }
   },
   "source": [
    "Finding correlation between data points"
   ]
  },
  {
   "cell_type": "code",
   "execution_count": 0,
   "metadata": {
    "application/vnd.databricks.v1+cell": {
     "cellMetadata": {
      "byteLimit": 2048000,
      "rowLimit": 10000
     },
     "inputWidgets": {},
     "nuid": "b677d64b-3846-4375-834d-a3241be6edfa",
     "showTitle": false,
     "title": ""
    },
    "jupyter": {
     "outputs_hidden": true
    }
   },
   "outputs": [
    {
     "output_type": "execute_result",
     "data": {
      "text/plain": [
       "<AxesSubplot:>"
      ]
     },
     "execution_count": 49,
     "metadata": {},
     "output_type": "execute_result"
    },
    {
     "output_type": "display_data",
     "data": {
      "image/png": "[encoded data removed]",
      "text/plain": [
       "<Figure size 2000x2000 with 2 Axes>"
      ]
     },
     "metadata": {},
     "output_type": "display_data"
    }
   ],
   "source": [
    "corr_mat = feature_df.corr()\n",
    "plt.figure(figsize=(20,20))\n",
    "sns.heatmap(corr_mat,annot=True,center=0)"
   ]
  },
  {
   "cell_type": "code",
   "execution_count": 0,
   "metadata": {
    "application/vnd.databricks.v1+cell": {
     "cellMetadata": {
      "byteLimit": 2048000,
      "rowLimit": 10000
     },
     "inputWidgets": {},
     "nuid": "18679eb6-f5b3-4b02-bffc-4b86b65175eb",
     "showTitle": false,
     "title": ""
    }
   },
   "outputs": [
    {
     "output_type": "execute_result",
     "data": {
      "text/html": [
       "<div>\n",
       "<style scoped>\n",
       "    .dataframe tbody tr th:only-of-type {\n",
       "        vertical-align: middle;\n",
       "    }\n",
       "\n",
       "    .dataframe tbody tr th {\n",
       "        vertical-align: top;\n",
       "    }\n",
       "\n",
       "    .dataframe thead th {\n",
       "        text-align: right;\n",
       "    }\n",
       "</style>\n",
       "<table border=\"1\" class=\"dataframe\">\n",
       "  <thead>\n",
       "    <tr style=\"text-align: right;\">\n",
       "      <th></th>\n",
       "      <th>score</th>\n",
       "      <th>30_day_delinq</th>\n",
       "      <th>60_day_delinq</th>\n",
       "      <th>90_day_delinq</th>\n",
       "      <th>principal_amount</th>\n",
       "      <th>payable_amount</th>\n",
       "      <th>date_of_loan</th>\n",
       "    </tr>\n",
       "  </thead>\n",
       "  <tbody>\n",
       "    <tr>\n",
       "      <th>0</th>\n",
       "      <td>790</td>\n",
       "      <td>0</td>\n",
       "      <td>0</td>\n",
       "      <td>0</td>\n",
       "      <td>125000</td>\n",
       "      <td>161000</td>\n",
       "      <td>2</td>\n",
       "    </tr>\n",
       "    <tr>\n",
       "      <th>1</th>\n",
       "      <td>805</td>\n",
       "      <td>0</td>\n",
       "      <td>0</td>\n",
       "      <td>0</td>\n",
       "      <td>73000</td>\n",
       "      <td>109000</td>\n",
       "      <td>2</td>\n",
       "    </tr>\n",
       "    <tr>\n",
       "      <th>2</th>\n",
       "      <td>811</td>\n",
       "      <td>0</td>\n",
       "      <td>0</td>\n",
       "      <td>0</td>\n",
       "      <td>80000</td>\n",
       "      <td>116000</td>\n",
       "      <td>2</td>\n",
       "    </tr>\n",
       "    <tr>\n",
       "      <th>3</th>\n",
       "      <td>820</td>\n",
       "      <td>0</td>\n",
       "      <td>0</td>\n",
       "      <td>0</td>\n",
       "      <td>233000</td>\n",
       "      <td>269000</td>\n",
       "      <td>2</td>\n",
       "    </tr>\n",
       "    <tr>\n",
       "      <th>4</th>\n",
       "      <td>765</td>\n",
       "      <td>0</td>\n",
       "      <td>0</td>\n",
       "      <td>0</td>\n",
       "      <td>38000</td>\n",
       "      <td>74000</td>\n",
       "      <td>2</td>\n",
       "    </tr>\n",
       "    <tr>\n",
       "      <th>...</th>\n",
       "      <td>...</td>\n",
       "      <td>...</td>\n",
       "      <td>...</td>\n",
       "      <td>...</td>\n",
       "      <td>...</td>\n",
       "      <td>...</td>\n",
       "      <td>...</td>\n",
       "    </tr>\n",
       "    <tr>\n",
       "      <th>95</th>\n",
       "      <td>709</td>\n",
       "      <td>0</td>\n",
       "      <td>0</td>\n",
       "      <td>0</td>\n",
       "      <td>29000</td>\n",
       "      <td>65000</td>\n",
       "      <td>2</td>\n",
       "    </tr>\n",
       "    <tr>\n",
       "      <th>96</th>\n",
       "      <td>771</td>\n",
       "      <td>0</td>\n",
       "      <td>0</td>\n",
       "      <td>0</td>\n",
       "      <td>112000</td>\n",
       "      <td>148000</td>\n",
       "      <td>2</td>\n",
       "    </tr>\n",
       "    <tr>\n",
       "      <th>97</th>\n",
       "      <td>770</td>\n",
       "      <td>0</td>\n",
       "      <td>0</td>\n",
       "      <td>0</td>\n",
       "      <td>143000</td>\n",
       "      <td>179000</td>\n",
       "      <td>2</td>\n",
       "    </tr>\n",
       "    <tr>\n",
       "      <th>98</th>\n",
       "      <td>729</td>\n",
       "      <td>1</td>\n",
       "      <td>0</td>\n",
       "      <td>0</td>\n",
       "      <td>121000</td>\n",
       "      <td>157000</td>\n",
       "      <td>2</td>\n",
       "    </tr>\n",
       "    <tr>\n",
       "      <th>99</th>\n",
       "      <td>758</td>\n",
       "      <td>0</td>\n",
       "      <td>0</td>\n",
       "      <td>0</td>\n",
       "      <td>138000</td>\n",
       "      <td>174000</td>\n",
       "      <td>2</td>\n",
       "    </tr>\n",
       "  </tbody>\n",
       "</table>\n",
       "<p>100 rows × 7 columns</p>\n",
       "</div>"
      ],
      "text/plain": [
       "   score 30_day_delinq  ... payable_amount date_of_loan\n",
       "0    790             0  ...         161000            2\n",
       "1    805             0  ...         109000            2\n",
       "2    811             0  ...         116000            2\n",
       "3    820             0  ...         269000            2\n",
       "4    765             0  ...          74000            2\n",
       "..   ...           ...  ...            ...          ...\n",
       "95   709             0  ...          65000            2\n",
       "96   771             0  ...         148000            2\n",
       "97   770             0  ...         179000            2\n",
       "98   729             1  ...         157000            2\n",
       "99   758             0  ...         174000            2\n",
       "\n",
       "[100 rows x 7 columns]"
      ]
     },
     "execution_count": 50,
     "metadata": {},
     "output_type": "execute_result"
    }
   ],
   "source": [
    "copy_df = feature_df.copy()\n",
    "copy_df.drop(['id'],axis=1)"
   ]
  },
  {
   "cell_type": "markdown",
   "metadata": {
    "application/vnd.databricks.v1+cell": {
     "cellMetadata": {},
     "inputWidgets": {},
     "nuid": "f327929c-4393-481a-9d7e-b25a8e2410c1",
     "showTitle": false,
     "title": ""
    }
   },
   "source": [
    "Scaling data before feeding to the model"
   ]
  },
  {
   "cell_type": "code",
   "execution_count": 0,
   "metadata": {
    "application/vnd.databricks.v1+cell": {
     "cellMetadata": {
      "byteLimit": 2048000,
      "rowLimit": 10000
     },
     "inputWidgets": {},
     "nuid": "fbbebbc8-b277-4811-8d49-239b15f826d1",
     "showTitle": false,
     "title": ""
    }
   },
   "outputs": [
    {
     "output_type": "stream",
     "name": "stdout",
     "output_type": "stream",
     "text": [
      "All features are now scaled\n"
     ]
    }
   ],
   "source": [
    "scaler=StandardScaler()\n",
    "scaler.fit(copy_df)\n",
    "scaled_ds = pd.DataFrame(scaler.transform(copy_df))\n",
    "print(\"All features are now scaled\")"
   ]
  },
  {
   "cell_type": "markdown",
   "metadata": {
    "application/vnd.databricks.v1+cell": {
     "cellMetadata": {},
     "inputWidgets": {},
     "nuid": "8c812708-d507-4b63-99dc-65fa2f03052d",
     "showTitle": false,
     "title": ""
    }
   },
   "source": [
    "Running the model"
   ]
  },
  {
   "cell_type": "code",
   "execution_count": 0,
   "metadata": {
    "application/vnd.databricks.v1+cell": {
     "cellMetadata": {
      "byteLimit": 2048000,
      "rowLimit": 10000
     },
     "inputWidgets": {},
     "nuid": "d18e9321-d8db-4db3-ae4c-5e978fd4c99a",
     "showTitle": false,
     "title": ""
    }
   },
   "outputs": [],
   "source": [
    "AC = AgglomerativeClustering(n_clusters=4)\n",
    "# fit model and predict clusters\n",
    "yhat_AC = AC.fit_predict(scaled_ds)\n",
    "scaled_ds[\"Clusters\"] = yhat_AC\n",
    "#Adding the Clusters feature to the orignal dataframe.\n",
    "feature_df[\"Clusters\"]= yhat_AC"
   ]
  },
  {
   "cell_type": "code",
   "execution_count": 0,
   "metadata": {
    "application/vnd.databricks.v1+cell": {
     "cellMetadata": {
      "byteLimit": 2048000,
      "rowLimit": 10000
     },
     "inputWidgets": {},
     "nuid": "13149e2e-9cf7-4ef2-a1ad-116c779c6299",
     "showTitle": false,
     "title": ""
    }
   },
   "outputs": [
    {
     "output_type": "execute_result",
     "data": {
      "text/html": [
       "<div>\n",
       "<style scoped>\n",
       "    .dataframe tbody tr th:only-of-type {\n",
       "        vertical-align: middle;\n",
       "    }\n",
       "\n",
       "    .dataframe tbody tr th {\n",
       "        vertical-align: top;\n",
       "    }\n",
       "\n",
       "    .dataframe thead th {\n",
       "        text-align: right;\n",
       "    }\n",
       "</style>\n",
       "<table border=\"1\" class=\"dataframe\">\n",
       "  <thead>\n",
       "    <tr style=\"text-align: right;\">\n",
       "      <th></th>\n",
       "      <th>id</th>\n",
       "      <th>score</th>\n",
       "      <th>30_day_delinq</th>\n",
       "      <th>60_day_delinq</th>\n",
       "      <th>90_day_delinq</th>\n",
       "      <th>principal_amount</th>\n",
       "      <th>payable_amount</th>\n",
       "      <th>date_of_loan</th>\n",
       "      <th>Clusters</th>\n",
       "    </tr>\n",
       "  </thead>\n",
       "  <tbody>\n",
       "    <tr>\n",
       "      <th>0</th>\n",
       "      <td>10001</td>\n",
       "      <td>790</td>\n",
       "      <td>0</td>\n",
       "      <td>0</td>\n",
       "      <td>0</td>\n",
       "      <td>125000</td>\n",
       "      <td>161000</td>\n",
       "      <td>2</td>\n",
       "      <td>0</td>\n",
       "    </tr>\n",
       "    <tr>\n",
       "      <th>1</th>\n",
       "      <td>10002</td>\n",
       "      <td>805</td>\n",
       "      <td>0</td>\n",
       "      <td>0</td>\n",
       "      <td>0</td>\n",
       "      <td>73000</td>\n",
       "      <td>109000</td>\n",
       "      <td>2</td>\n",
       "      <td>0</td>\n",
       "    </tr>\n",
       "    <tr>\n",
       "      <th>2</th>\n",
       "      <td>10003</td>\n",
       "      <td>811</td>\n",
       "      <td>0</td>\n",
       "      <td>0</td>\n",
       "      <td>0</td>\n",
       "      <td>80000</td>\n",
       "      <td>116000</td>\n",
       "      <td>2</td>\n",
       "      <td>0</td>\n",
       "    </tr>\n",
       "    <tr>\n",
       "      <th>3</th>\n",
       "      <td>10004</td>\n",
       "      <td>820</td>\n",
       "      <td>0</td>\n",
       "      <td>0</td>\n",
       "      <td>0</td>\n",
       "      <td>233000</td>\n",
       "      <td>269000</td>\n",
       "      <td>2</td>\n",
       "      <td>2</td>\n",
       "    </tr>\n",
       "    <tr>\n",
       "      <th>4</th>\n",
       "      <td>10005</td>\n",
       "      <td>765</td>\n",
       "      <td>0</td>\n",
       "      <td>0</td>\n",
       "      <td>0</td>\n",
       "      <td>38000</td>\n",
       "      <td>74000</td>\n",
       "      <td>2</td>\n",
       "      <td>0</td>\n",
       "    </tr>\n",
       "    <tr>\n",
       "      <th>5</th>\n",
       "      <td>10006</td>\n",
       "      <td>710</td>\n",
       "      <td>1</td>\n",
       "      <td>1</td>\n",
       "      <td>1</td>\n",
       "      <td>129000</td>\n",
       "      <td>165000</td>\n",
       "      <td>2</td>\n",
       "      <td>3</td>\n",
       "    </tr>\n",
       "    <tr>\n",
       "      <th>6</th>\n",
       "      <td>10007</td>\n",
       "      <td>750</td>\n",
       "      <td>0</td>\n",
       "      <td>0</td>\n",
       "      <td>0</td>\n",
       "      <td>138000</td>\n",
       "      <td>174000</td>\n",
       "      <td>2</td>\n",
       "      <td>0</td>\n",
       "    </tr>\n",
       "    <tr>\n",
       "      <th>7</th>\n",
       "      <td>10008</td>\n",
       "      <td>801</td>\n",
       "      <td>0</td>\n",
       "      <td>0</td>\n",
       "      <td>0</td>\n",
       "      <td>430000</td>\n",
       "      <td>466000</td>\n",
       "      <td>2</td>\n",
       "      <td>2</td>\n",
       "    </tr>\n",
       "    <tr>\n",
       "      <th>8</th>\n",
       "      <td>10009</td>\n",
       "      <td>770</td>\n",
       "      <td>0</td>\n",
       "      <td>0</td>\n",
       "      <td>0</td>\n",
       "      <td>280000</td>\n",
       "      <td>316000</td>\n",
       "      <td>2</td>\n",
       "      <td>2</td>\n",
       "    </tr>\n",
       "    <tr>\n",
       "      <th>9</th>\n",
       "      <td>10010</td>\n",
       "      <td>788</td>\n",
       "      <td>0</td>\n",
       "      <td>0</td>\n",
       "      <td>0</td>\n",
       "      <td>105000</td>\n",
       "      <td>141000</td>\n",
       "      <td>2</td>\n",
       "      <td>0</td>\n",
       "    </tr>\n",
       "    <tr>\n",
       "      <th>10</th>\n",
       "      <td>10011</td>\n",
       "      <td>791</td>\n",
       "      <td>0</td>\n",
       "      <td>0</td>\n",
       "      <td>0</td>\n",
       "      <td>110000</td>\n",
       "      <td>146000</td>\n",
       "      <td>2</td>\n",
       "      <td>0</td>\n",
       "    </tr>\n",
       "    <tr>\n",
       "      <th>11</th>\n",
       "      <td>10012</td>\n",
       "      <td>773</td>\n",
       "      <td>0</td>\n",
       "      <td>0</td>\n",
       "      <td>0</td>\n",
       "      <td>68000</td>\n",
       "      <td>104000</td>\n",
       "      <td>2</td>\n",
       "      <td>0</td>\n",
       "    </tr>\n",
       "    <tr>\n",
       "      <th>12</th>\n",
       "      <td>10013</td>\n",
       "      <td>820</td>\n",
       "      <td>0</td>\n",
       "      <td>0</td>\n",
       "      <td>0</td>\n",
       "      <td>95000</td>\n",
       "      <td>131000</td>\n",
       "      <td>2</td>\n",
       "      <td>0</td>\n",
       "    </tr>\n",
       "    <tr>\n",
       "      <th>13</th>\n",
       "      <td>10014</td>\n",
       "      <td>750</td>\n",
       "      <td>0</td>\n",
       "      <td>0</td>\n",
       "      <td>0</td>\n",
       "      <td>37000</td>\n",
       "      <td>73000</td>\n",
       "      <td>2</td>\n",
       "      <td>0</td>\n",
       "    </tr>\n",
       "    <tr>\n",
       "      <th>14</th>\n",
       "      <td>10015</td>\n",
       "      <td>744</td>\n",
       "      <td>0</td>\n",
       "      <td>0</td>\n",
       "      <td>0</td>\n",
       "      <td>38000</td>\n",
       "      <td>74000</td>\n",
       "      <td>2</td>\n",
       "      <td>0</td>\n",
       "    </tr>\n",
       "    <tr>\n",
       "      <th>15</th>\n",
       "      <td>10016</td>\n",
       "      <td>790</td>\n",
       "      <td>1</td>\n",
       "      <td>0</td>\n",
       "      <td>0</td>\n",
       "      <td>320000</td>\n",
       "      <td>356000</td>\n",
       "      <td>2</td>\n",
       "      <td>1</td>\n",
       "    </tr>\n",
       "    <tr>\n",
       "      <th>16</th>\n",
       "      <td>10017</td>\n",
       "      <td>797</td>\n",
       "      <td>0</td>\n",
       "      <td>0</td>\n",
       "      <td>0</td>\n",
       "      <td>248000</td>\n",
       "      <td>284000</td>\n",
       "      <td>2</td>\n",
       "      <td>2</td>\n",
       "    </tr>\n",
       "    <tr>\n",
       "      <th>17</th>\n",
       "      <td>10018</td>\n",
       "      <td>800</td>\n",
       "      <td>0</td>\n",
       "      <td>0</td>\n",
       "      <td>0</td>\n",
       "      <td>160000</td>\n",
       "      <td>196000</td>\n",
       "      <td>2</td>\n",
       "      <td>0</td>\n",
       "    </tr>\n",
       "    <tr>\n",
       "      <th>18</th>\n",
       "      <td>10019</td>\n",
       "      <td>766</td>\n",
       "      <td>0</td>\n",
       "      <td>0</td>\n",
       "      <td>0</td>\n",
       "      <td>170000</td>\n",
       "      <td>206000</td>\n",
       "      <td>2</td>\n",
       "      <td>0</td>\n",
       "    </tr>\n",
       "    <tr>\n",
       "      <th>19</th>\n",
       "      <td>10020</td>\n",
       "      <td>761</td>\n",
       "      <td>1</td>\n",
       "      <td>0</td>\n",
       "      <td>0</td>\n",
       "      <td>385000</td>\n",
       "      <td>421000</td>\n",
       "      <td>2</td>\n",
       "      <td>1</td>\n",
       "    </tr>\n",
       "    <tr>\n",
       "      <th>20</th>\n",
       "      <td>10021</td>\n",
       "      <td>800</td>\n",
       "      <td>0</td>\n",
       "      <td>0</td>\n",
       "      <td>0</td>\n",
       "      <td>94000</td>\n",
       "      <td>130000</td>\n",
       "      <td>2</td>\n",
       "      <td>0</td>\n",
       "    </tr>\n",
       "    <tr>\n",
       "      <th>21</th>\n",
       "      <td>10022</td>\n",
       "      <td>810</td>\n",
       "      <td>0</td>\n",
       "      <td>0</td>\n",
       "      <td>0</td>\n",
       "      <td>118000</td>\n",
       "      <td>154000</td>\n",
       "      <td>2</td>\n",
       "      <td>0</td>\n",
       "    </tr>\n",
       "    <tr>\n",
       "      <th>22</th>\n",
       "      <td>10023</td>\n",
       "      <td>711</td>\n",
       "      <td>1</td>\n",
       "      <td>1</td>\n",
       "      <td>0</td>\n",
       "      <td>154000</td>\n",
       "      <td>190000</td>\n",
       "      <td>2</td>\n",
       "      <td>1</td>\n",
       "    </tr>\n",
       "    <tr>\n",
       "      <th>23</th>\n",
       "      <td>10024</td>\n",
       "      <td>709</td>\n",
       "      <td>1</td>\n",
       "      <td>1</td>\n",
       "      <td>0</td>\n",
       "      <td>270000</td>\n",
       "      <td>306000</td>\n",
       "      <td>2</td>\n",
       "      <td>1</td>\n",
       "    </tr>\n",
       "    <tr>\n",
       "      <th>24</th>\n",
       "      <td>10025</td>\n",
       "      <td>811</td>\n",
       "      <td>0</td>\n",
       "      <td>0</td>\n",
       "      <td>0</td>\n",
       "      <td>275000</td>\n",
       "      <td>311000</td>\n",
       "      <td>2</td>\n",
       "      <td>2</td>\n",
       "    </tr>\n",
       "    <tr>\n",
       "      <th>25</th>\n",
       "      <td>10026</td>\n",
       "      <td>802</td>\n",
       "      <td>0</td>\n",
       "      <td>0</td>\n",
       "      <td>0</td>\n",
       "      <td>93000</td>\n",
       "      <td>129000</td>\n",
       "      <td>2</td>\n",
       "      <td>0</td>\n",
       "    </tr>\n",
       "    <tr>\n",
       "      <th>26</th>\n",
       "      <td>10027</td>\n",
       "      <td>786</td>\n",
       "      <td>0</td>\n",
       "      <td>0</td>\n",
       "      <td>0</td>\n",
       "      <td>128000</td>\n",
       "      <td>164000</td>\n",
       "      <td>2</td>\n",
       "      <td>0</td>\n",
       "    </tr>\n",
       "    <tr>\n",
       "      <th>27</th>\n",
       "      <td>10028</td>\n",
       "      <td>784</td>\n",
       "      <td>0</td>\n",
       "      <td>0</td>\n",
       "      <td>0</td>\n",
       "      <td>140000</td>\n",
       "      <td>176000</td>\n",
       "      <td>2</td>\n",
       "      <td>0</td>\n",
       "    </tr>\n",
       "    <tr>\n",
       "      <th>28</th>\n",
       "      <td>10029</td>\n",
       "      <td>781</td>\n",
       "      <td>0</td>\n",
       "      <td>0</td>\n",
       "      <td>0</td>\n",
       "      <td>550000</td>\n",
       "      <td>586000</td>\n",
       "      <td>2</td>\n",
       "      <td>2</td>\n",
       "    </tr>\n",
       "    <tr>\n",
       "      <th>29</th>\n",
       "      <td>10030</td>\n",
       "      <td>763</td>\n",
       "      <td>0</td>\n",
       "      <td>0</td>\n",
       "      <td>0</td>\n",
       "      <td>68000</td>\n",
       "      <td>104000</td>\n",
       "      <td>2</td>\n",
       "      <td>0</td>\n",
       "    </tr>\n",
       "    <tr>\n",
       "      <th>30</th>\n",
       "      <td>10031</td>\n",
       "      <td>761</td>\n",
       "      <td>1</td>\n",
       "      <td>0</td>\n",
       "      <td>0</td>\n",
       "      <td>165000</td>\n",
       "      <td>201000</td>\n",
       "      <td>2</td>\n",
       "      <td>1</td>\n",
       "    </tr>\n",
       "    <tr>\n",
       "      <th>31</th>\n",
       "      <td>10032</td>\n",
       "      <td>780</td>\n",
       "      <td>0</td>\n",
       "      <td>0</td>\n",
       "      <td>0</td>\n",
       "      <td>180000</td>\n",
       "      <td>216000</td>\n",
       "      <td>2</td>\n",
       "      <td>0</td>\n",
       "    </tr>\n",
       "    <tr>\n",
       "      <th>32</th>\n",
       "      <td>10033</td>\n",
       "      <td>744</td>\n",
       "      <td>1</td>\n",
       "      <td>0</td>\n",
       "      <td>0</td>\n",
       "      <td>343000</td>\n",
       "      <td>379000</td>\n",
       "      <td>2</td>\n",
       "      <td>1</td>\n",
       "    </tr>\n",
       "    <tr>\n",
       "      <th>33</th>\n",
       "      <td>10034</td>\n",
       "      <td>799</td>\n",
       "      <td>0</td>\n",
       "      <td>0</td>\n",
       "      <td>0</td>\n",
       "      <td>70000</td>\n",
       "      <td>106000</td>\n",
       "      <td>2</td>\n",
       "      <td>0</td>\n",
       "    </tr>\n",
       "    <tr>\n",
       "      <th>34</th>\n",
       "      <td>10035</td>\n",
       "      <td>733</td>\n",
       "      <td>1</td>\n",
       "      <td>1</td>\n",
       "      <td>1</td>\n",
       "      <td>74000</td>\n",
       "      <td>110000</td>\n",
       "      <td>2</td>\n",
       "      <td>3</td>\n",
       "    </tr>\n",
       "    <tr>\n",
       "      <th>35</th>\n",
       "      <td>10036</td>\n",
       "      <td>710</td>\n",
       "      <td>0</td>\n",
       "      <td>0</td>\n",
       "      <td>0</td>\n",
       "      <td>78000</td>\n",
       "      <td>114000</td>\n",
       "      <td>2</td>\n",
       "      <td>0</td>\n",
       "    </tr>\n",
       "    <tr>\n",
       "      <th>36</th>\n",
       "      <td>10037</td>\n",
       "      <td>760</td>\n",
       "      <td>1</td>\n",
       "      <td>1</td>\n",
       "      <td>0</td>\n",
       "      <td>113000</td>\n",
       "      <td>149000</td>\n",
       "      <td>2</td>\n",
       "      <td>1</td>\n",
       "    </tr>\n",
       "    <tr>\n",
       "      <th>37</th>\n",
       "      <td>10038</td>\n",
       "      <td>777</td>\n",
       "      <td>1</td>\n",
       "      <td>0</td>\n",
       "      <td>0</td>\n",
       "      <td>250000</td>\n",
       "      <td>286000</td>\n",
       "      <td>2</td>\n",
       "      <td>1</td>\n",
       "    </tr>\n",
       "    <tr>\n",
       "      <th>38</th>\n",
       "      <td>10039</td>\n",
       "      <td>787</td>\n",
       "      <td>1</td>\n",
       "      <td>0</td>\n",
       "      <td>0</td>\n",
       "      <td>69000</td>\n",
       "      <td>105000</td>\n",
       "      <td>2</td>\n",
       "      <td>1</td>\n",
       "    </tr>\n",
       "    <tr>\n",
       "      <th>39</th>\n",
       "      <td>10040</td>\n",
       "      <td>797</td>\n",
       "      <td>0</td>\n",
       "      <td>0</td>\n",
       "      <td>0</td>\n",
       "      <td>73000</td>\n",
       "      <td>109000</td>\n",
       "      <td>2</td>\n",
       "      <td>0</td>\n",
       "    </tr>\n",
       "    <tr>\n",
       "      <th>40</th>\n",
       "      <td>10041</td>\n",
       "      <td>698</td>\n",
       "      <td>1</td>\n",
       "      <td>1</td>\n",
       "      <td>1</td>\n",
       "      <td>175000</td>\n",
       "      <td>211000</td>\n",
       "      <td>2</td>\n",
       "      <td>3</td>\n",
       "    </tr>\n",
       "    <tr>\n",
       "      <th>41</th>\n",
       "      <td>10042</td>\n",
       "      <td>766</td>\n",
       "      <td>0</td>\n",
       "      <td>0</td>\n",
       "      <td>0</td>\n",
       "      <td>248000</td>\n",
       "      <td>284000</td>\n",
       "      <td>2</td>\n",
       "      <td>2</td>\n",
       "    </tr>\n",
       "    <tr>\n",
       "      <th>42</th>\n",
       "      <td>10043</td>\n",
       "      <td>760</td>\n",
       "      <td>1</td>\n",
       "      <td>0</td>\n",
       "      <td>0</td>\n",
       "      <td>70000</td>\n",
       "      <td>106000</td>\n",
       "      <td>2</td>\n",
       "      <td>1</td>\n",
       "    </tr>\n",
       "    <tr>\n",
       "      <th>43</th>\n",
       "      <td>10044</td>\n",
       "      <td>769</td>\n",
       "      <td>0</td>\n",
       "      <td>0</td>\n",
       "      <td>0</td>\n",
       "      <td>270000</td>\n",
       "      <td>306000</td>\n",
       "      <td>2</td>\n",
       "      <td>2</td>\n",
       "    </tr>\n",
       "    <tr>\n",
       "      <th>44</th>\n",
       "      <td>10045</td>\n",
       "      <td>772</td>\n",
       "      <td>0</td>\n",
       "      <td>0</td>\n",
       "      <td>0</td>\n",
       "      <td>275000</td>\n",
       "      <td>311000</td>\n",
       "      <td>2</td>\n",
       "      <td>2</td>\n",
       "    </tr>\n",
       "    <tr>\n",
       "      <th>45</th>\n",
       "      <td>10046</td>\n",
       "      <td>770</td>\n",
       "      <td>0</td>\n",
       "      <td>0</td>\n",
       "      <td>0</td>\n",
       "      <td>93000</td>\n",
       "      <td>129000</td>\n",
       "      <td>2</td>\n",
       "      <td>0</td>\n",
       "    </tr>\n",
       "    <tr>\n",
       "      <th>46</th>\n",
       "      <td>10047</td>\n",
       "      <td>782</td>\n",
       "      <td>0</td>\n",
       "      <td>0</td>\n",
       "      <td>0</td>\n",
       "      <td>128000</td>\n",
       "      <td>164000</td>\n",
       "      <td>2</td>\n",
       "      <td>0</td>\n",
       "    </tr>\n",
       "    <tr>\n",
       "      <th>47</th>\n",
       "      <td>10048</td>\n",
       "      <td>784</td>\n",
       "      <td>0</td>\n",
       "      <td>0</td>\n",
       "      <td>0</td>\n",
       "      <td>140000</td>\n",
       "      <td>176000</td>\n",
       "      <td>2</td>\n",
       "      <td>0</td>\n",
       "    </tr>\n",
       "    <tr>\n",
       "      <th>48</th>\n",
       "      <td>10049</td>\n",
       "      <td>794</td>\n",
       "      <td>0</td>\n",
       "      <td>0</td>\n",
       "      <td>0</td>\n",
       "      <td>550000</td>\n",
       "      <td>586000</td>\n",
       "      <td>2</td>\n",
       "      <td>2</td>\n",
       "    </tr>\n",
       "    <tr>\n",
       "      <th>49</th>\n",
       "      <td>10050</td>\n",
       "      <td>814</td>\n",
       "      <td>0</td>\n",
       "      <td>0</td>\n",
       "      <td>0</td>\n",
       "      <td>270000</td>\n",
       "      <td>306000</td>\n",
       "      <td>2</td>\n",
       "      <td>2</td>\n",
       "    </tr>\n",
       "  </tbody>\n",
       "</table>\n",
       "</div>"
      ],
      "text/plain": [
       "       id score 30_day_delinq  ... payable_amount date_of_loan  Clusters\n",
       "0   10001   790             0  ...         161000            2         0\n",
       "1   10002   805             0  ...         109000            2         0\n",
       "2   10003   811             0  ...         116000            2         0\n",
       "3   10004   820             0  ...         269000            2         2\n",
       "4   10005   765             0  ...          74000            2         0\n",
       "5   10006   710             1  ...         165000            2         3\n",
       "6   10007   750             0  ...         174000            2         0\n",
       "7   10008   801             0  ...         466000            2         2\n",
       "8   10009   770             0  ...         316000            2         2\n",
       "9   10010   788             0  ...         141000            2         0\n",
       "10  10011   791             0  ...         146000            2         0\n",
       "11  10012   773             0  ...         104000            2         0\n",
       "12  10013   820             0  ...         131000            2         0\n",
       "13  10014   750             0  ...          73000            2         0\n",
       "14  10015   744             0  ...          74000            2         0\n",
       "15  10016   790             1  ...         356000            2         1\n",
       "16  10017   797             0  ...         284000            2         2\n",
       "17  10018   800             0  ...         196000            2         0\n",
       "18  10019   766             0  ...         206000            2         0\n",
       "19  10020   761             1  ...         421000            2         1\n",
       "20  10021   800             0  ...         130000            2         0\n",
       "21  10022   810             0  ...         154000            2         0\n",
       "22  10023   711             1  ...         190000            2         1\n",
       "23  10024   709             1  ...         306000            2         1\n",
       "24  10025   811             0  ...         311000            2         2\n",
       "25  10026   802             0  ...         129000            2         0\n",
       "26  10027   786             0  ...         164000            2         0\n",
       "27  10028   784             0  ...         176000            2         0\n",
       "28  10029   781             0  ...         586000            2         2\n",
       "29  10030   763             0  ...         104000            2         0\n",
       "30  10031   761             1  ...         201000            2         1\n",
       "31  10032   780             0  ...         216000            2         0\n",
       "32  10033   744             1  ...         379000            2         1\n",
       "33  10034   799             0  ...         106000            2         0\n",
       "34  10035   733             1  ...         110000            2         3\n",
       "35  10036   710             0  ...         114000            2         0\n",
       "36  10037   760             1  ...         149000            2         1\n",
       "37  10038   777             1  ...         286000            2         1\n",
       "38  10039   787             1  ...         105000            2         1\n",
       "39  10040   797             0  ...         109000            2         0\n",
       "40  10041   698             1  ...         211000            2         3\n",
       "41  10042   766             0  ...         284000            2         2\n",
       "42  10043   760             1  ...         106000            2         1\n",
       "43  10044   769             0  ...         306000            2         2\n",
       "44  10045   772             0  ...         311000            2         2\n",
       "45  10046   770             0  ...         129000            2         0\n",
       "46  10047   782             0  ...         164000            2         0\n",
       "47  10048   784             0  ...         176000            2         0\n",
       "48  10049   794             0  ...         586000            2         2\n",
       "49  10050   814             0  ...         306000            2         2\n",
       "\n",
       "[50 rows x 9 columns]"
      ]
     },
     "execution_count": 53,
     "metadata": {},
     "output_type": "execute_result"
    }
   ],
   "source": [
    "feature_df.head(50)"
   ]
  },
  {
   "cell_type": "markdown",
   "metadata": {
    "application/vnd.databricks.v1+cell": {
     "cellMetadata": {},
     "inputWidgets": {},
     "nuid": "8e3d2f92-1df4-4c27-a5f1-ceca6f365f1d",
     "showTitle": false,
     "title": ""
    }
   },
   "source": [
    "View the clusters created by Kmeans"
   ]
  },
  {
   "cell_type": "code",
   "execution_count": 0,
   "metadata": {
    "application/vnd.databricks.v1+cell": {
     "cellMetadata": {
      "byteLimit": 2048000,
      "rowLimit": 10000
     },
     "inputWidgets": {},
     "nuid": "1cb2a7ed-d91f-4697-8861-e04740cedd06",
     "showTitle": false,
     "title": ""
    }
   },
   "outputs": [
    {
     "output_type": "display_data",
     "data": {
      "image/png": "[encoded data removed]",
      "text/plain": [
       "<Figure size 640x480 with 1 Axes>"
      ]
     },
     "metadata": {},
     "output_type": "display_data"
    }
   ],
   "source": [
    "pal = [\"#682F2F\",\"#B9C0C9\", \"#9F8A78\",\"#F3AB60\"]\n",
    "pl = sns.countplot(x=feature_df[\"Clusters\"], palette= pal)\n",
    "pl.set_title(\"Distribution Of The Clusters\")\n",
    "plt.show()"
   ]
  },
  {
   "cell_type": "code",
   "execution_count": 0,
   "metadata": {
    "application/vnd.databricks.v1+cell": {
     "cellMetadata": {
      "byteLimit": 2048000,
      "rowLimit": 10000
     },
     "inputWidgets": {},
     "nuid": "cd0b806b-6a2b-421d-bc03-99349e41323f",
     "showTitle": false,
     "title": ""
    }
   },
   "outputs": [],
   "source": [
    " cc_test = pd.merge(cc_4,cc_data,on='id')\n",
    " interm_df1 = pd.merge( dim_cust_data,cc_test,on='id',how='outer')\n",
    " interm_df2 = pd.merge(interm_df1,feature_df,on='id')"
   ]
  },
  {
   "cell_type": "markdown",
   "metadata": {
    "application/vnd.databricks.v1+cell": {
     "cellMetadata": {},
     "inputWidgets": {},
     "nuid": "213d1291-7701-41d2-8c8d-752c82f31cb6",
     "showTitle": false,
     "title": ""
    }
   },
   "source": [
    "Re-formatting data as per businness requirement"
   ]
  },
  {
   "cell_type": "code",
   "execution_count": 0,
   "metadata": {
    "application/vnd.databricks.v1+cell": {
     "cellMetadata": {
      "byteLimit": 2048000,
      "rowLimit": 10000
     },
     "inputWidgets": {},
     "nuid": "eb459b01-848c-4735-9ef8-261813f0708f",
     "showTitle": false,
     "title": ""
    }
   },
   "outputs": [],
   "source": [
    "result = {}\n",
    "for id in fact_loan_data['id']:\n",
    "    result[id] = fact_loan_data[fact_loan_data['id'] == id]['lan'].tolist()\n"
   ]
  },
  {
   "cell_type": "code",
   "execution_count": 0,
   "metadata": {
    "application/vnd.databricks.v1+cell": {
     "cellMetadata": {
      "byteLimit": 2048000,
      "rowLimit": 10000
     },
     "inputWidgets": {},
     "nuid": "5105428b-dfb4-4bce-80e0-53718b16d0b6",
     "showTitle": false,
     "title": ""
    }
   },
   "outputs": [],
   "source": [
    "acc_df = pd.DataFrame.from_dict(result)\n",
    "acc_df1 = acc_df.transpose()"
   ]
  },
  {
   "cell_type": "code",
   "execution_count": 0,
   "metadata": {
    "application/vnd.databricks.v1+cell": {
     "cellMetadata": {
      "byteLimit": 2048000,
      "rowLimit": 10000
     },
     "inputWidgets": {},
     "nuid": "74a6eff6-d6cf-4d0f-b033-df345fc452dc",
     "showTitle": false,
     "title": ""
    }
   },
   "outputs": [],
   "source": [
    "acc_df1['id'] = acc_df1.index"
   ]
  },
  {
   "cell_type": "code",
   "execution_count": 0,
   "metadata": {
    "application/vnd.databricks.v1+cell": {
     "cellMetadata": {
      "byteLimit": 2048000,
      "rowLimit": 10000
     },
     "inputWidgets": {},
     "nuid": "6f4f87fa-8dcd-46e3-a505-13011851ecac",
     "showTitle": false,
     "title": ""
    }
   },
   "outputs": [],
   "source": [
    "interm_df3 = pd.merge(interm_df2,acc_df1,on='id')"
   ]
  },
  {
   "cell_type": "code",
   "execution_count": 0,
   "metadata": {
    "application/vnd.databricks.v1+cell": {
     "cellMetadata": {
      "byteLimit": 2048000,
      "rowLimit": 10000
     },
     "inputWidgets": {},
     "nuid": "0257ea98-f79c-40d2-b054-60adabdba00b",
     "showTitle": false,
     "title": ""
    }
   },
   "outputs": [
    {
     "output_type": "execute_result",
     "data": {
      "text/html": [
       "<div>\n",
       "<style scoped>\n",
       "    .dataframe tbody tr th:only-of-type {\n",
       "        vertical-align: middle;\n",
       "    }\n",
       "\n",
       "    .dataframe tbody tr th {\n",
       "        vertical-align: top;\n",
       "    }\n",
       "\n",
       "    .dataframe thead th {\n",
       "        text-align: right;\n",
       "    }\n",
       "</style>\n",
       "<table border=\"1\" class=\"dataframe\">\n",
       "  <thead>\n",
       "    <tr style=\"text-align: right;\">\n",
       "      <th></th>\n",
       "      <th>id</th>\n",
       "      <th>firstname</th>\n",
       "      <th>lastname</th>\n",
       "      <th>email</th>\n",
       "      <th>gender</th>\n",
       "      <th>city</th>\n",
       "      <th>state</th>\n",
       "      <th>phone</th>\n",
       "      <th>pin</th>\n",
       "      <th>transaction_amount</th>\n",
       "      <th>transaction_date</th>\n",
       "      <th>cc_number</th>\n",
       "      <th>cvv</th>\n",
       "      <th>cc_accountnumber</th>\n",
       "      <th>date_of_issue</th>\n",
       "      <th>limit</th>\n",
       "      <th>score</th>\n",
       "      <th>30_day_delinq</th>\n",
       "      <th>60_day_delinq</th>\n",
       "      <th>90_day_delinq</th>\n",
       "      <th>principal_amount</th>\n",
       "      <th>payable_amount</th>\n",
       "      <th>Number_of_Loan</th>\n",
       "      <th>Cust_Profile</th>\n",
       "      <th>LAN1</th>\n",
       "      <th>LAN2</th>\n",
       "    </tr>\n",
       "  </thead>\n",
       "  <tbody>\n",
       "    <tr>\n",
       "      <th>0</th>\n",
       "      <td>10001</td>\n",
       "      <td>Orlando</td>\n",
       "      <td>Flatley-Veum</td>\n",
       "      <td>Orlando_Flatley-Veum@gmail.com</td>\n",
       "      <td>male</td>\n",
       "      <td>Murphyboro</td>\n",
       "      <td>South Carolina</td>\n",
       "      <td>+1 (217) 198-0340</td>\n",
       "      <td>3439</td>\n",
       "      <td>28000.0</td>\n",
       "      <td>3.0</td>\n",
       "      <td>6709-7200-0000-0000</td>\n",
       "      <td>901</td>\n",
       "      <td>78943001</td>\n",
       "      <td>2023-01-04</td>\n",
       "      <td>100000</td>\n",
       "      <td>790</td>\n",
       "      <td>0</td>\n",
       "      <td>0</td>\n",
       "      <td>0</td>\n",
       "      <td>125000</td>\n",
       "      <td>161000</td>\n",
       "      <td>2</td>\n",
       "      <td>0</td>\n",
       "      <td>88478908</td>\n",
       "      <td>16294220</td>\n",
       "    </tr>\n",
       "    <tr>\n",
       "      <th>1</th>\n",
       "      <td>10002</td>\n",
       "      <td>Verna</td>\n",
       "      <td>Paucek</td>\n",
       "      <td>Verna27@yahoo.com</td>\n",
       "      <td>female</td>\n",
       "      <td>Kayceechester</td>\n",
       "      <td>Delaware</td>\n",
       "      <td>+1 (712) 116-2207</td>\n",
       "      <td>984</td>\n",
       "      <td>45500.0</td>\n",
       "      <td>3.0</td>\n",
       "      <td>6759-3800-0000-0000</td>\n",
       "      <td>696</td>\n",
       "      <td>78943002</td>\n",
       "      <td>2023-02-07</td>\n",
       "      <td>150000</td>\n",
       "      <td>805</td>\n",
       "      <td>0</td>\n",
       "      <td>0</td>\n",
       "      <td>0</td>\n",
       "      <td>73000</td>\n",
       "      <td>109000</td>\n",
       "      <td>2</td>\n",
       "      <td>0</td>\n",
       "      <td>85518292</td>\n",
       "      <td>26035286</td>\n",
       "    </tr>\n",
       "    <tr>\n",
       "      <th>2</th>\n",
       "      <td>10003</td>\n",
       "      <td>Cynthia</td>\n",
       "      <td>Nolan</td>\n",
       "      <td>Cynthia12@gmail.com</td>\n",
       "      <td>female</td>\n",
       "      <td>Moreno Valley</td>\n",
       "      <td>Texas</td>\n",
       "      <td>+1 (311) 961-7236</td>\n",
       "      <td>3924</td>\n",
       "      <td>74000.0</td>\n",
       "      <td>5.0</td>\n",
       "      <td>5018-6700-0000-0000</td>\n",
       "      <td>296</td>\n",
       "      <td>78943003</td>\n",
       "      <td>2023-01-13</td>\n",
       "      <td>250000</td>\n",
       "      <td>811</td>\n",
       "      <td>0</td>\n",
       "      <td>0</td>\n",
       "      <td>0</td>\n",
       "      <td>80000</td>\n",
       "      <td>116000</td>\n",
       "      <td>2</td>\n",
       "      <td>0</td>\n",
       "      <td>54720840</td>\n",
       "      <td>89461735</td>\n",
       "    </tr>\n",
       "    <tr>\n",
       "      <th>3</th>\n",
       "      <td>10004</td>\n",
       "      <td>Morris</td>\n",
       "      <td>McGlynn</td>\n",
       "      <td>Morris_McGlynn89@gmail.com</td>\n",
       "      <td>male</td>\n",
       "      <td>Dibbertborough</td>\n",
       "      <td>Alaska</td>\n",
       "      <td>+1 (436) 438-1272</td>\n",
       "      <td>2384</td>\n",
       "      <td>22000.0</td>\n",
       "      <td>1.0</td>\n",
       "      <td>5458-3146-7492-9964</td>\n",
       "      <td>258</td>\n",
       "      <td>78943004</td>\n",
       "      <td>2023-05-04</td>\n",
       "      <td>300000</td>\n",
       "      <td>820</td>\n",
       "      <td>0</td>\n",
       "      <td>0</td>\n",
       "      <td>0</td>\n",
       "      <td>233000</td>\n",
       "      <td>269000</td>\n",
       "      <td>2</td>\n",
       "      <td>2</td>\n",
       "      <td>25193224</td>\n",
       "      <td>64313379</td>\n",
       "    </tr>\n",
       "    <tr>\n",
       "      <th>4</th>\n",
       "      <td>10005</td>\n",
       "      <td>Wilma</td>\n",
       "      <td>Carter</td>\n",
       "      <td>Wilma50@hotmail.com</td>\n",
       "      <td>female</td>\n",
       "      <td>Joanyberg</td>\n",
       "      <td>Idaho</td>\n",
       "      <td>+1 (168) 271-7969</td>\n",
       "      <td>7541</td>\n",
       "      <td>23000.0</td>\n",
       "      <td>3.0</td>\n",
       "      <td>4089-1258-1779-5975</td>\n",
       "      <td>457</td>\n",
       "      <td>78943005</td>\n",
       "      <td>2023-01-21</td>\n",
       "      <td>60000</td>\n",
       "      <td>765</td>\n",
       "      <td>0</td>\n",
       "      <td>0</td>\n",
       "      <td>0</td>\n",
       "      <td>38000</td>\n",
       "      <td>74000</td>\n",
       "      <td>2</td>\n",
       "      <td>0</td>\n",
       "      <td>35946485</td>\n",
       "      <td>36456303</td>\n",
       "    </tr>\n",
       "  </tbody>\n",
       "</table>\n",
       "</div>"
      ],
      "text/plain": [
       "      id firstname      lastname  ... Cust_Profile      LAN1      LAN2\n",
       "0  10001   Orlando  Flatley-Veum  ...            0  88478908  16294220\n",
       "1  10002     Verna        Paucek  ...            0  85518292  26035286\n",
       "2  10003   Cynthia         Nolan  ...            0  54720840  89461735\n",
       "3  10004    Morris       McGlynn  ...            2  25193224  64313379\n",
       "4  10005     Wilma        Carter  ...            0  35946485  36456303\n",
       "\n",
       "[5 rows x 26 columns]"
      ]
     },
     "execution_count": 63,
     "metadata": {},
     "output_type": "execute_result"
    }
   ],
   "source": []
  },
  {
   "cell_type": "code",
   "execution_count": 0,
   "metadata": {
    "application/vnd.databricks.v1+cell": {
     "cellMetadata": {
      "byteLimit": 2048000,
      "rowLimit": 10000
     },
     "inputWidgets": {},
     "nuid": "d450b1d2-c0c7-40c8-acec-6e5e02fab0e7",
     "showTitle": false,
     "title": ""
    }
   },
   "outputs": [
    {
     "output_type": "execute_result",
     "data": {
      "text/html": [
       "<div>\n",
       "<style scoped>\n",
       "    .dataframe tbody tr th:only-of-type {\n",
       "        vertical-align: middle;\n",
       "    }\n",
       "\n",
       "    .dataframe tbody tr th {\n",
       "        vertical-align: top;\n",
       "    }\n",
       "\n",
       "    .dataframe thead th {\n",
       "        text-align: right;\n",
       "    }\n",
       "</style>\n",
       "<table border=\"1\" class=\"dataframe\">\n",
       "  <thead>\n",
       "    <tr style=\"text-align: right;\">\n",
       "      <th></th>\n",
       "      <th>id</th>\n",
       "      <th>firstname</th>\n",
       "      <th>lastname</th>\n",
       "      <th>email</th>\n",
       "      <th>gender</th>\n",
       "      <th>city</th>\n",
       "      <th>state</th>\n",
       "      <th>phone</th>\n",
       "      <th>pin</th>\n",
       "      <th>total_cc_transactions</th>\n",
       "      <th>transaction_date</th>\n",
       "      <th>cc_number</th>\n",
       "      <th>cvv</th>\n",
       "      <th>cc_accountnumber</th>\n",
       "      <th>date_of_issue</th>\n",
       "      <th>limit</th>\n",
       "      <th>score</th>\n",
       "      <th>30_day_delinq</th>\n",
       "      <th>60_day_delinq</th>\n",
       "      <th>90_day_delinq</th>\n",
       "      <th>principal_amount</th>\n",
       "      <th>payable_amount</th>\n",
       "      <th>Number_of_Loan</th>\n",
       "      <th>Cust_Profile</th>\n",
       "      <th>LAN1</th>\n",
       "      <th>LAN2</th>\n",
       "    </tr>\n",
       "  </thead>\n",
       "  <tbody>\n",
       "    <tr>\n",
       "      <th>0</th>\n",
       "      <td>10001</td>\n",
       "      <td>Orlando</td>\n",
       "      <td>Flatley-Veum</td>\n",
       "      <td>Orlando_Flatley-Veum@gmail.com</td>\n",
       "      <td>male</td>\n",
       "      <td>Murphyboro</td>\n",
       "      <td>South Carolina</td>\n",
       "      <td>+1 (217) 198-0340</td>\n",
       "      <td>3439</td>\n",
       "      <td>28000.0</td>\n",
       "      <td>3.0</td>\n",
       "      <td>6709-7200-0000-0000</td>\n",
       "      <td>901</td>\n",
       "      <td>78943001</td>\n",
       "      <td>2023-01-04</td>\n",
       "      <td>100000</td>\n",
       "      <td>790</td>\n",
       "      <td>0</td>\n",
       "      <td>0</td>\n",
       "      <td>0</td>\n",
       "      <td>125000</td>\n",
       "      <td>161000</td>\n",
       "      <td>2</td>\n",
       "      <td>0</td>\n",
       "      <td>88478908</td>\n",
       "      <td>16294220</td>\n",
       "    </tr>\n",
       "    <tr>\n",
       "      <th>1</th>\n",
       "      <td>10002</td>\n",
       "      <td>Verna</td>\n",
       "      <td>Paucek</td>\n",
       "      <td>Verna27@yahoo.com</td>\n",
       "      <td>female</td>\n",
       "      <td>Kayceechester</td>\n",
       "      <td>Delaware</td>\n",
       "      <td>+1 (712) 116-2207</td>\n",
       "      <td>984</td>\n",
       "      <td>45500.0</td>\n",
       "      <td>3.0</td>\n",
       "      <td>6759-3800-0000-0000</td>\n",
       "      <td>696</td>\n",
       "      <td>78943002</td>\n",
       "      <td>2023-02-07</td>\n",
       "      <td>150000</td>\n",
       "      <td>805</td>\n",
       "      <td>0</td>\n",
       "      <td>0</td>\n",
       "      <td>0</td>\n",
       "      <td>73000</td>\n",
       "      <td>109000</td>\n",
       "      <td>2</td>\n",
       "      <td>0</td>\n",
       "      <td>85518292</td>\n",
       "      <td>26035286</td>\n",
       "    </tr>\n",
       "    <tr>\n",
       "      <th>2</th>\n",
       "      <td>10003</td>\n",
       "      <td>Cynthia</td>\n",
       "      <td>Nolan</td>\n",
       "      <td>Cynthia12@gmail.com</td>\n",
       "      <td>female</td>\n",
       "      <td>Moreno Valley</td>\n",
       "      <td>Texas</td>\n",
       "      <td>+1 (311) 961-7236</td>\n",
       "      <td>3924</td>\n",
       "      <td>74000.0</td>\n",
       "      <td>5.0</td>\n",
       "      <td>5018-6700-0000-0000</td>\n",
       "      <td>296</td>\n",
       "      <td>78943003</td>\n",
       "      <td>2023-01-13</td>\n",
       "      <td>250000</td>\n",
       "      <td>811</td>\n",
       "      <td>0</td>\n",
       "      <td>0</td>\n",
       "      <td>0</td>\n",
       "      <td>80000</td>\n",
       "      <td>116000</td>\n",
       "      <td>2</td>\n",
       "      <td>0</td>\n",
       "      <td>54720840</td>\n",
       "      <td>89461735</td>\n",
       "    </tr>\n",
       "    <tr>\n",
       "      <th>3</th>\n",
       "      <td>10004</td>\n",
       "      <td>Morris</td>\n",
       "      <td>McGlynn</td>\n",
       "      <td>Morris_McGlynn89@gmail.com</td>\n",
       "      <td>male</td>\n",
       "      <td>Dibbertborough</td>\n",
       "      <td>Alaska</td>\n",
       "      <td>+1 (436) 438-1272</td>\n",
       "      <td>2384</td>\n",
       "      <td>22000.0</td>\n",
       "      <td>1.0</td>\n",
       "      <td>5458-3146-7492-9964</td>\n",
       "      <td>258</td>\n",
       "      <td>78943004</td>\n",
       "      <td>2023-05-04</td>\n",
       "      <td>300000</td>\n",
       "      <td>820</td>\n",
       "      <td>0</td>\n",
       "      <td>0</td>\n",
       "      <td>0</td>\n",
       "      <td>233000</td>\n",
       "      <td>269000</td>\n",
       "      <td>2</td>\n",
       "      <td>2</td>\n",
       "      <td>25193224</td>\n",
       "      <td>64313379</td>\n",
       "    </tr>\n",
       "    <tr>\n",
       "      <th>4</th>\n",
       "      <td>10005</td>\n",
       "      <td>Wilma</td>\n",
       "      <td>Carter</td>\n",
       "      <td>Wilma50@hotmail.com</td>\n",
       "      <td>female</td>\n",
       "      <td>Joanyberg</td>\n",
       "      <td>Idaho</td>\n",
       "      <td>+1 (168) 271-7969</td>\n",
       "      <td>7541</td>\n",
       "      <td>23000.0</td>\n",
       "      <td>3.0</td>\n",
       "      <td>4089-1258-1779-5975</td>\n",
       "      <td>457</td>\n",
       "      <td>78943005</td>\n",
       "      <td>2023-01-21</td>\n",
       "      <td>60000</td>\n",
       "      <td>765</td>\n",
       "      <td>0</td>\n",
       "      <td>0</td>\n",
       "      <td>0</td>\n",
       "      <td>38000</td>\n",
       "      <td>74000</td>\n",
       "      <td>2</td>\n",
       "      <td>0</td>\n",
       "      <td>35946485</td>\n",
       "      <td>36456303</td>\n",
       "    </tr>\n",
       "  </tbody>\n",
       "</table>\n",
       "</div>"
      ],
      "text/plain": [
       "      id firstname      lastname  ... Cust_Profile      LAN1      LAN2\n",
       "0  10001   Orlando  Flatley-Veum  ...            0  88478908  16294220\n",
       "1  10002     Verna        Paucek  ...            0  85518292  26035286\n",
       "2  10003   Cynthia         Nolan  ...            0  54720840  89461735\n",
       "3  10004    Morris       McGlynn  ...            2  25193224  64313379\n",
       "4  10005     Wilma        Carter  ...            0  35946485  36456303\n",
       "\n",
       "[5 rows x 26 columns]"
      ]
     },
     "execution_count": 65,
     "metadata": {},
     "output_type": "execute_result"
    }
   ],
   "source": [
    "interm_df3.rename(columns = {'transaction_amount':'total_cc_transactions','date_of_loan':'Number_of_Loan','Clusters':'Cust_Profile',0:'LAN1',1:'LAN2'},inplace=True)\n",
    "interm_df3.head()\n"
   ]
  },
  {
   "cell_type": "markdown",
   "metadata": {
    "application/vnd.databricks.v1+cell": {
     "cellMetadata": {},
     "inputWidgets": {},
     "nuid": "0f68c0a4-5c73-481d-819a-e4b70537e071",
     "showTitle": false,
     "title": ""
    }
   },
   "source": [
    "Final dataframe ready for ingestion to COSMOS DB"
   ]
  },
  {
   "cell_type": "code",
   "execution_count": 0,
   "metadata": {
    "application/vnd.databricks.v1+cell": {
     "cellMetadata": {
      "byteLimit": 2048000,
      "rowLimit": 10000
     },
     "inputWidgets": {},
     "nuid": "79a33b55-6746-4bc4-acac-106428761a2e",
     "showTitle": false,
     "title": ""
    }
   },
   "outputs": [],
   "source": [
    "final= interm_df3.drop(['transaction_date','cvv','cc_accountnumber','30_day_delinq','60_day_delinq','90_day_delinq'],axis=1)"
   ]
  },
  {
   "cell_type": "code",
   "execution_count": 0,
   "metadata": {
    "application/vnd.databricks.v1+cell": {
     "cellMetadata": {
      "byteLimit": 2048000,
      "rowLimit": 10000
     },
     "inputWidgets": {},
     "nuid": "2d31904e-f4c6-4711-ad97-abaef7294b4e",
     "showTitle": false,
     "title": ""
    }
   },
   "outputs": [
    {
     "output_type": "execute_result",
     "data": {
      "text/html": [
       "<div>\n",
       "<style scoped>\n",
       "    .dataframe tbody tr th:only-of-type {\n",
       "        vertical-align: middle;\n",
       "    }\n",
       "\n",
       "    .dataframe tbody tr th {\n",
       "        vertical-align: top;\n",
       "    }\n",
       "\n",
       "    .dataframe thead th {\n",
       "        text-align: right;\n",
       "    }\n",
       "</style>\n",
       "<table border=\"1\" class=\"dataframe\">\n",
       "  <thead>\n",
       "    <tr style=\"text-align: right;\">\n",
       "      <th></th>\n",
       "      <th>id</th>\n",
       "      <th>firstname</th>\n",
       "      <th>lastname</th>\n",
       "      <th>email</th>\n",
       "      <th>gender</th>\n",
       "      <th>city</th>\n",
       "      <th>state</th>\n",
       "      <th>phone</th>\n",
       "      <th>pin</th>\n",
       "      <th>total_cc_transactions</th>\n",
       "      <th>cc_number</th>\n",
       "      <th>date_of_issue</th>\n",
       "      <th>limit</th>\n",
       "      <th>score</th>\n",
       "      <th>principal_amount</th>\n",
       "      <th>payable_amount</th>\n",
       "      <th>Number_of_Loan</th>\n",
       "      <th>Cust_Profile</th>\n",
       "      <th>LAN1</th>\n",
       "      <th>LAN2</th>\n",
       "    </tr>\n",
       "  </thead>\n",
       "  <tbody>\n",
       "    <tr>\n",
       "      <th>0</th>\n",
       "      <td>10001</td>\n",
       "      <td>Orlando</td>\n",
       "      <td>Flatley-Veum</td>\n",
       "      <td>Orlando_Flatley-Veum@gmail.com</td>\n",
       "      <td>male</td>\n",
       "      <td>Murphyboro</td>\n",
       "      <td>South Carolina</td>\n",
       "      <td>+1 (217) 198-0340</td>\n",
       "      <td>3439</td>\n",
       "      <td>28000.0</td>\n",
       "      <td>6709-7200-0000-0000</td>\n",
       "      <td>2023-01-04</td>\n",
       "      <td>100000</td>\n",
       "      <td>790</td>\n",
       "      <td>125000</td>\n",
       "      <td>161000</td>\n",
       "      <td>2</td>\n",
       "      <td>0</td>\n",
       "      <td>88478908</td>\n",
       "      <td>16294220</td>\n",
       "    </tr>\n",
       "    <tr>\n",
       "      <th>1</th>\n",
       "      <td>10002</td>\n",
       "      <td>Verna</td>\n",
       "      <td>Paucek</td>\n",
       "      <td>Verna27@yahoo.com</td>\n",
       "      <td>female</td>\n",
       "      <td>Kayceechester</td>\n",
       "      <td>Delaware</td>\n",
       "      <td>+1 (712) 116-2207</td>\n",
       "      <td>984</td>\n",
       "      <td>45500.0</td>\n",
       "      <td>6759-3800-0000-0000</td>\n",
       "      <td>2023-02-07</td>\n",
       "      <td>150000</td>\n",
       "      <td>805</td>\n",
       "      <td>73000</td>\n",
       "      <td>109000</td>\n",
       "      <td>2</td>\n",
       "      <td>0</td>\n",
       "      <td>85518292</td>\n",
       "      <td>26035286</td>\n",
       "    </tr>\n",
       "    <tr>\n",
       "      <th>2</th>\n",
       "      <td>10003</td>\n",
       "      <td>Cynthia</td>\n",
       "      <td>Nolan</td>\n",
       "      <td>Cynthia12@gmail.com</td>\n",
       "      <td>female</td>\n",
       "      <td>Moreno Valley</td>\n",
       "      <td>Texas</td>\n",
       "      <td>+1 (311) 961-7236</td>\n",
       "      <td>3924</td>\n",
       "      <td>74000.0</td>\n",
       "      <td>5018-6700-0000-0000</td>\n",
       "      <td>2023-01-13</td>\n",
       "      <td>250000</td>\n",
       "      <td>811</td>\n",
       "      <td>80000</td>\n",
       "      <td>116000</td>\n",
       "      <td>2</td>\n",
       "      <td>0</td>\n",
       "      <td>54720840</td>\n",
       "      <td>89461735</td>\n",
       "    </tr>\n",
       "    <tr>\n",
       "      <th>3</th>\n",
       "      <td>10004</td>\n",
       "      <td>Morris</td>\n",
       "      <td>McGlynn</td>\n",
       "      <td>Morris_McGlynn89@gmail.com</td>\n",
       "      <td>male</td>\n",
       "      <td>Dibbertborough</td>\n",
       "      <td>Alaska</td>\n",
       "      <td>+1 (436) 438-1272</td>\n",
       "      <td>2384</td>\n",
       "      <td>22000.0</td>\n",
       "      <td>5458-3146-7492-9964</td>\n",
       "      <td>2023-05-04</td>\n",
       "      <td>300000</td>\n",
       "      <td>820</td>\n",
       "      <td>233000</td>\n",
       "      <td>269000</td>\n",
       "      <td>2</td>\n",
       "      <td>2</td>\n",
       "      <td>25193224</td>\n",
       "      <td>64313379</td>\n",
       "    </tr>\n",
       "    <tr>\n",
       "      <th>4</th>\n",
       "      <td>10005</td>\n",
       "      <td>Wilma</td>\n",
       "      <td>Carter</td>\n",
       "      <td>Wilma50@hotmail.com</td>\n",
       "      <td>female</td>\n",
       "      <td>Joanyberg</td>\n",
       "      <td>Idaho</td>\n",
       "      <td>+1 (168) 271-7969</td>\n",
       "      <td>7541</td>\n",
       "      <td>23000.0</td>\n",
       "      <td>4089-1258-1779-5975</td>\n",
       "      <td>2023-01-21</td>\n",
       "      <td>60000</td>\n",
       "      <td>765</td>\n",
       "      <td>38000</td>\n",
       "      <td>74000</td>\n",
       "      <td>2</td>\n",
       "      <td>0</td>\n",
       "      <td>35946485</td>\n",
       "      <td>36456303</td>\n",
       "    </tr>\n",
       "  </tbody>\n",
       "</table>\n",
       "</div>"
      ],
      "text/plain": [
       "      id firstname      lastname  ... Cust_Profile      LAN1      LAN2\n",
       "0  10001   Orlando  Flatley-Veum  ...            0  88478908  16294220\n",
       "1  10002     Verna        Paucek  ...            0  85518292  26035286\n",
       "2  10003   Cynthia         Nolan  ...            0  54720840  89461735\n",
       "3  10004    Morris       McGlynn  ...            2  25193224  64313379\n",
       "4  10005     Wilma        Carter  ...            0  35946485  36456303\n",
       "\n",
       "[5 rows x 20 columns]"
      ]
     },
     "execution_count": 68,
     "metadata": {},
     "output_type": "execute_result"
    }
   ],
   "source": [
    "final.head()"
   ]
  },
  {
   "cell_type": "markdown",
   "metadata": {
    "application/vnd.databricks.v1+cell": {
     "cellMetadata": {},
     "inputWidgets": {},
     "nuid": "0b2a1745-8bc6-465f-b42d-4a41da4b40d6",
     "showTitle": false,
     "title": ""
    }
   },
   "source": [
    "Reconvert the Pandas Dataframe to Pyspark Dataframe and ingest to COSMOSDB container"
   ]
  },
  {
   "cell_type": "code",
   "execution_count": 0,
   "metadata": {
    "application/vnd.databricks.v1+cell": {
     "cellMetadata": {
      "byteLimit": 2048000,
      "rowLimit": 10000
     },
     "inputWidgets": {},
     "nuid": "00691714-3ee5-4c6b-b1b5-702b86a90a54",
     "showTitle": false,
     "title": ""
    }
   },
   "outputs": [],
   "source": [
    "cosmosdf = spark.createDataFrame(final)\\\n",
    "  .write \\\n",
    "  .format(\"cosmos.oltp\") \\\n",
    "  .options(**config) \\\n",
    "  .mode(\"APPEND\") \\\n",
    "  .save()\n"
   ]
  }
 ],
 "metadata": {
  "application/vnd.databricks.v1+notebook": {
   "dashboards": [],
   "environmentMetadata": null,
   "language": "python",
   "notebookMetadata": {
    "pythonIndentUnit": 4
   },
   "notebookName": "CustProfiling",
   "widgets": {}
  }
 },
 "nbformat": 4,
 "nbformat_minor": 0
}
